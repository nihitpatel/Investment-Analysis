{
 "cells": [
  {
   "cell_type": "markdown",
   "metadata": {},
   "source": [
    "\n",
    "## <font color=green>Spark Funds Investment Analysis Assignment - Solution</font>\n",
    "##### By : <font color=green>Nihit Patel</font>\n",
    "\n",
    "\n",
    "\n",
    "## Objectives:\n",
    "Spark Funds is an asset management company.It wants to make investments in a few companies. The CEO of Spark Funds wants to understand the global trends in investments so that she can take the investment decisions effectively.\n",
    "\n",
    "#### Spark Funds has two minor constraints for investments:\n",
    "\n",
    "- It wants to invest between 5 to 15 million USD per round of investment\n",
    "\n",
    "- It wants to invest only in English-speaking countries because of the ease of communication with the companies it would invest in.\n"
   ]
  },
  {
   "cell_type": "code",
   "execution_count": 1,
   "metadata": {},
   "outputs": [],
   "source": [
    "#Importing the necessary python libraries\n",
    "\n",
    "import numpy as np\n",
    "import pandas as pd\n",
    "import matplotlib.pyplot as plt\n",
    "import seaborn as sns\n",
    "import itertools\n",
    "import math\n",
    "\n",
    "%matplotlib inline\n",
    "sns.set()"
   ]
  },
  {
   "cell_type": "code",
   "execution_count": 2,
   "metadata": {},
   "outputs": [],
   "source": [
    "# Ignore Warnings\n",
    "import warnings\n",
    "warnings.filterwarnings('ignore')"
   ]
  },
  {
   "cell_type": "markdown",
   "metadata": {},
   "source": [
    "# Checkpoint 1: Data Cleaning 1\n",
    "* Load the companies and rounds data into two data frames and name them `companies` and `rounds2` respectively.\n",
    "* Used encoding = `ANSI`\n",
    "    "
   ]
  },
  {
   "cell_type": "code",
   "execution_count": 3,
   "metadata": {},
   "outputs": [],
   "source": [
    "#Loading the companies.csv and rounds2.csv files into dataframes companies and rounds2 respectively:\n",
    "\n",
    "companies = pd.read_csv('companies.csv',encoding='ANSI')\n",
    "rounds2 = pd.read_csv(\"rounds2.csv\",encoding='ANSI')"
   ]
  },
  {
   "cell_type": "code",
   "execution_count": 4,
   "metadata": {},
   "outputs": [
    {
     "data": {
      "text/html": [
       "<div>\n",
       "<style scoped>\n",
       "    .dataframe tbody tr th:only-of-type {\n",
       "        vertical-align: middle;\n",
       "    }\n",
       "\n",
       "    .dataframe tbody tr th {\n",
       "        vertical-align: top;\n",
       "    }\n",
       "\n",
       "    .dataframe thead th {\n",
       "        text-align: right;\n",
       "    }\n",
       "</style>\n",
       "<table border=\"1\" class=\"dataframe\">\n",
       "  <thead>\n",
       "    <tr style=\"text-align: right;\">\n",
       "      <th></th>\n",
       "      <th>permalink</th>\n",
       "      <th>name</th>\n",
       "      <th>homepage_url</th>\n",
       "      <th>category_list</th>\n",
       "      <th>status</th>\n",
       "      <th>country_code</th>\n",
       "      <th>state_code</th>\n",
       "      <th>region</th>\n",
       "      <th>city</th>\n",
       "      <th>founded_at</th>\n",
       "    </tr>\n",
       "  </thead>\n",
       "  <tbody>\n",
       "    <tr>\n",
       "      <th>0</th>\n",
       "      <td>/Organization/-Fame</td>\n",
       "      <td>#fame</td>\n",
       "      <td>http://livfame.com</td>\n",
       "      <td>Media</td>\n",
       "      <td>operating</td>\n",
       "      <td>IND</td>\n",
       "      <td>16</td>\n",
       "      <td>Mumbai</td>\n",
       "      <td>Mumbai</td>\n",
       "      <td>NaN</td>\n",
       "    </tr>\n",
       "    <tr>\n",
       "      <th>1</th>\n",
       "      <td>/Organization/-Qounter</td>\n",
       "      <td>:Qounter</td>\n",
       "      <td>http://www.qounter.com</td>\n",
       "      <td>Application Platforms|Real Time|Social Network...</td>\n",
       "      <td>operating</td>\n",
       "      <td>USA</td>\n",
       "      <td>DE</td>\n",
       "      <td>DE - Other</td>\n",
       "      <td>Delaware City</td>\n",
       "      <td>04-09-2014</td>\n",
       "    </tr>\n",
       "    <tr>\n",
       "      <th>2</th>\n",
       "      <td>/Organization/-The-One-Of-Them-Inc-</td>\n",
       "      <td>(THE) ONE of THEM,Inc.</td>\n",
       "      <td>http://oneofthem.jp</td>\n",
       "      <td>Apps|Games|Mobile</td>\n",
       "      <td>operating</td>\n",
       "      <td>NaN</td>\n",
       "      <td>NaN</td>\n",
       "      <td>NaN</td>\n",
       "      <td>NaN</td>\n",
       "      <td>NaN</td>\n",
       "    </tr>\n",
       "    <tr>\n",
       "      <th>3</th>\n",
       "      <td>/Organization/0-6-Com</td>\n",
       "      <td>0-6.com</td>\n",
       "      <td>http://www.0-6.com</td>\n",
       "      <td>Curated Web</td>\n",
       "      <td>operating</td>\n",
       "      <td>CHN</td>\n",
       "      <td>22</td>\n",
       "      <td>Beijing</td>\n",
       "      <td>Beijing</td>\n",
       "      <td>01-01-2007</td>\n",
       "    </tr>\n",
       "    <tr>\n",
       "      <th>4</th>\n",
       "      <td>/Organization/004-Technologies</td>\n",
       "      <td>004 Technologies</td>\n",
       "      <td>http://004gmbh.de/en/004-interact</td>\n",
       "      <td>Software</td>\n",
       "      <td>operating</td>\n",
       "      <td>USA</td>\n",
       "      <td>IL</td>\n",
       "      <td>Springfield, Illinois</td>\n",
       "      <td>Champaign</td>\n",
       "      <td>01-01-2010</td>\n",
       "    </tr>\n",
       "  </tbody>\n",
       "</table>\n",
       "</div>"
      ],
      "text/plain": [
       "                             permalink                    name  \\\n",
       "0                  /Organization/-Fame                   #fame   \n",
       "1               /Organization/-Qounter                :Qounter   \n",
       "2  /Organization/-The-One-Of-Them-Inc-  (THE) ONE of THEM,Inc.   \n",
       "3                /Organization/0-6-Com                 0-6.com   \n",
       "4       /Organization/004-Technologies        004 Technologies   \n",
       "\n",
       "                        homepage_url  \\\n",
       "0                 http://livfame.com   \n",
       "1             http://www.qounter.com   \n",
       "2                http://oneofthem.jp   \n",
       "3                 http://www.0-6.com   \n",
       "4  http://004gmbh.de/en/004-interact   \n",
       "\n",
       "                                       category_list     status country_code  \\\n",
       "0                                              Media  operating          IND   \n",
       "1  Application Platforms|Real Time|Social Network...  operating          USA   \n",
       "2                                  Apps|Games|Mobile  operating          NaN   \n",
       "3                                        Curated Web  operating          CHN   \n",
       "4                                           Software  operating          USA   \n",
       "\n",
       "  state_code                 region           city  founded_at  \n",
       "0         16                 Mumbai         Mumbai         NaN  \n",
       "1         DE             DE - Other  Delaware City  04-09-2014  \n",
       "2        NaN                    NaN            NaN         NaN  \n",
       "3         22                Beijing        Beijing  01-01-2007  \n",
       "4         IL  Springfield, Illinois      Champaign  01-01-2010  "
      ]
     },
     "execution_count": 4,
     "metadata": {},
     "output_type": "execute_result"
    }
   ],
   "source": [
    "# Looking at top 5 rows of companies dataframes\n",
    "\n",
    "companies.head()"
   ]
  },
  {
   "cell_type": "code",
   "execution_count": 5,
   "metadata": {},
   "outputs": [
    {
     "data": {
      "text/html": [
       "<div>\n",
       "<style scoped>\n",
       "    .dataframe tbody tr th:only-of-type {\n",
       "        vertical-align: middle;\n",
       "    }\n",
       "\n",
       "    .dataframe tbody tr th {\n",
       "        vertical-align: top;\n",
       "    }\n",
       "\n",
       "    .dataframe thead th {\n",
       "        text-align: right;\n",
       "    }\n",
       "</style>\n",
       "<table border=\"1\" class=\"dataframe\">\n",
       "  <thead>\n",
       "    <tr style=\"text-align: right;\">\n",
       "      <th></th>\n",
       "      <th>company_permalink</th>\n",
       "      <th>funding_round_permalink</th>\n",
       "      <th>funding_round_type</th>\n",
       "      <th>funding_round_code</th>\n",
       "      <th>funded_at</th>\n",
       "      <th>raised_amount_usd</th>\n",
       "    </tr>\n",
       "  </thead>\n",
       "  <tbody>\n",
       "    <tr>\n",
       "      <th>0</th>\n",
       "      <td>/organization/-fame</td>\n",
       "      <td>/funding-round/9a01d05418af9f794eebff7ace91f638</td>\n",
       "      <td>venture</td>\n",
       "      <td>B</td>\n",
       "      <td>05-01-2015</td>\n",
       "      <td>10000000.0</td>\n",
       "    </tr>\n",
       "    <tr>\n",
       "      <th>1</th>\n",
       "      <td>/ORGANIZATION/-QOUNTER</td>\n",
       "      <td>/funding-round/22dacff496eb7acb2b901dec1dfe5633</td>\n",
       "      <td>venture</td>\n",
       "      <td>A</td>\n",
       "      <td>14-10-2014</td>\n",
       "      <td>NaN</td>\n",
       "    </tr>\n",
       "    <tr>\n",
       "      <th>2</th>\n",
       "      <td>/organization/-qounter</td>\n",
       "      <td>/funding-round/b44fbb94153f6cdef13083530bb48030</td>\n",
       "      <td>seed</td>\n",
       "      <td>NaN</td>\n",
       "      <td>01-03-2014</td>\n",
       "      <td>700000.0</td>\n",
       "    </tr>\n",
       "    <tr>\n",
       "      <th>3</th>\n",
       "      <td>/ORGANIZATION/-THE-ONE-OF-THEM-INC-</td>\n",
       "      <td>/funding-round/650b8f704416801069bb178a1418776b</td>\n",
       "      <td>venture</td>\n",
       "      <td>B</td>\n",
       "      <td>30-01-2014</td>\n",
       "      <td>3406878.0</td>\n",
       "    </tr>\n",
       "    <tr>\n",
       "      <th>4</th>\n",
       "      <td>/organization/0-6-com</td>\n",
       "      <td>/funding-round/5727accaeaa57461bd22a9bdd945382d</td>\n",
       "      <td>venture</td>\n",
       "      <td>A</td>\n",
       "      <td>19-03-2008</td>\n",
       "      <td>2000000.0</td>\n",
       "    </tr>\n",
       "  </tbody>\n",
       "</table>\n",
       "</div>"
      ],
      "text/plain": [
       "                     company_permalink  \\\n",
       "0                  /organization/-fame   \n",
       "1               /ORGANIZATION/-QOUNTER   \n",
       "2               /organization/-qounter   \n",
       "3  /ORGANIZATION/-THE-ONE-OF-THEM-INC-   \n",
       "4                /organization/0-6-com   \n",
       "\n",
       "                           funding_round_permalink funding_round_type  \\\n",
       "0  /funding-round/9a01d05418af9f794eebff7ace91f638            venture   \n",
       "1  /funding-round/22dacff496eb7acb2b901dec1dfe5633            venture   \n",
       "2  /funding-round/b44fbb94153f6cdef13083530bb48030               seed   \n",
       "3  /funding-round/650b8f704416801069bb178a1418776b            venture   \n",
       "4  /funding-round/5727accaeaa57461bd22a9bdd945382d            venture   \n",
       "\n",
       "  funding_round_code   funded_at  raised_amount_usd  \n",
       "0                  B  05-01-2015         10000000.0  \n",
       "1                  A  14-10-2014                NaN  \n",
       "2                NaN  01-03-2014           700000.0  \n",
       "3                  B  30-01-2014          3406878.0  \n",
       "4                  A  19-03-2008          2000000.0  "
      ]
     },
     "execution_count": 5,
     "metadata": {},
     "output_type": "execute_result"
    }
   ],
   "source": [
    "# Looking at top 5 rows of rounds2 dataframes\n",
    "\n",
    "rounds2.head()"
   ]
  },
  {
   "cell_type": "code",
   "execution_count": 6,
   "metadata": {},
   "outputs": [
    {
     "data": {
      "text/plain": [
       "(66368, 10)"
      ]
     },
     "execution_count": 6,
     "metadata": {},
     "output_type": "execute_result"
    }
   ],
   "source": [
    "companies.shape"
   ]
  },
  {
   "cell_type": "code",
   "execution_count": 7,
   "metadata": {},
   "outputs": [
    {
     "data": {
      "text/plain": [
       "(114949, 6)"
      ]
     },
     "execution_count": 7,
     "metadata": {},
     "output_type": "execute_result"
    }
   ],
   "source": [
    "rounds2.shape"
   ]
  },
  {
   "cell_type": "markdown",
   "metadata": {},
   "source": [
    "#### How many unique companies are present in rounds2?\n",
    "* Coverting `'company_permalink'` to LOWER case and then applying nunique() function"
   ]
  },
  {
   "cell_type": "code",
   "execution_count": 8,
   "metadata": {},
   "outputs": [
    {
     "name": "stdout",
     "output_type": "stream",
     "text": [
      "No. of unique Companies in rounds2 :  66368\n"
     ]
    }
   ],
   "source": [
    "rounds2[\"company_permalink\"] = rounds2[\"company_permalink\"].str.lower()\n",
    "print(\"No. of unique Companies in rounds2 : \",rounds2[\"company_permalink\"].nunique())"
   ]
  },
  {
   "cell_type": "markdown",
   "metadata": {},
   "source": [
    "#### How many unique companies are present in companies?\n",
    "* Coverting `'permalink'` to LOWER case and then applying nunique() function"
   ]
  },
  {
   "cell_type": "code",
   "execution_count": 9,
   "metadata": {},
   "outputs": [
    {
     "name": "stdout",
     "output_type": "stream",
     "text": [
      "No. of unique Companies in companies :  66368\n"
     ]
    }
   ],
   "source": [
    "companies.permalink = companies.permalink.str.lower()\n",
    "print(\"No. of unique Companies in companies : \",companies.permalink.nunique())"
   ]
  },
  {
   "cell_type": "markdown",
   "metadata": {},
   "source": [
    "#### In the companies data frame, which column can be used as the unique key for each company? Write the name of the column.\n",
    "* checking if a column contains all unique values with is_unique"
   ]
  },
  {
   "cell_type": "code",
   "execution_count": 10,
   "metadata": {},
   "outputs": [
    {
     "name": "stdout",
     "output_type": "stream",
     "text": [
      "'permalink' can be used as Unique Key\n"
     ]
    }
   ],
   "source": [
    "for i in list(companies.columns) :\n",
    "    if companies[i].is_unique :\n",
    "        print(\"'\" + i + \"' can be used as Unique Key\")"
   ]
  },
  {
   "cell_type": "markdown",
   "metadata": {},
   "source": [
    "#### Are there any companies in the rounds2 file which are not present in companies? Answer yes or no: Y/N\n",
    "* checking if all values of company_permalink column of rounds2 are in permalink column of companies"
   ]
  },
  {
   "cell_type": "code",
   "execution_count": 11,
   "metadata": {},
   "outputs": [
    {
     "name": "stdout",
     "output_type": "stream",
     "text": [
      "N\n"
     ]
    }
   ],
   "source": [
    "temp_var = len(rounds2[~rounds2[\"company_permalink\"].isin(companies.permalink)])\n",
    "if temp_var == 0 :\n",
    "    print(\"N\")\n",
    "else : \n",
    "    print(\"Y\")"
   ]
  },
  {
   "cell_type": "markdown",
   "metadata": {},
   "source": [
    "#### Merging companies and rounds2 dataframes to form master_frame"
   ]
  },
  {
   "cell_type": "code",
   "execution_count": 12,
   "metadata": {},
   "outputs": [
    {
     "data": {
      "text/plain": [
       "(114949, 16)"
      ]
     },
     "execution_count": 12,
     "metadata": {},
     "output_type": "execute_result"
    }
   ],
   "source": [
    "master_frame = pd.merge(rounds2,companies,how='inner',left_on='company_permalink',right_on='permalink')\n",
    "master_frame.shape"
   ]
  },
  {
   "cell_type": "code",
   "execution_count": 13,
   "metadata": {},
   "outputs": [
    {
     "name": "stdout",
     "output_type": "stream",
     "text": [
      "<class 'pandas.core.frame.DataFrame'>\n",
      "Int64Index: 114949 entries, 0 to 114948\n",
      "Data columns (total 16 columns):\n",
      " #   Column                   Non-Null Count   Dtype  \n",
      "---  ------                   --------------   -----  \n",
      " 0   company_permalink        114949 non-null  object \n",
      " 1   funding_round_permalink  114949 non-null  object \n",
      " 2   funding_round_type       114949 non-null  object \n",
      " 3   funding_round_code       31140 non-null   object \n",
      " 4   funded_at                114949 non-null  object \n",
      " 5   raised_amount_usd        94959 non-null   float64\n",
      " 6   permalink                114949 non-null  object \n",
      " 7   name                     114948 non-null  object \n",
      " 8   homepage_url             108815 non-null  object \n",
      " 9   category_list            111539 non-null  object \n",
      " 10  status                   114949 non-null  object \n",
      " 11  country_code             106271 non-null  object \n",
      " 12  state_code               104003 non-null  object \n",
      " 13  region                   104782 non-null  object \n",
      " 14  city                     104785 non-null  object \n",
      " 15  founded_at               94428 non-null   object \n",
      "dtypes: float64(1), object(15)\n",
      "memory usage: 14.9+ MB\n"
     ]
    }
   ],
   "source": [
    "master_frame.info()"
   ]
  },
  {
   "cell_type": "code",
   "execution_count": 14,
   "metadata": {},
   "outputs": [
    {
     "data": {
      "text/html": [
       "<div>\n",
       "<style scoped>\n",
       "    .dataframe tbody tr th:only-of-type {\n",
       "        vertical-align: middle;\n",
       "    }\n",
       "\n",
       "    .dataframe tbody tr th {\n",
       "        vertical-align: top;\n",
       "    }\n",
       "\n",
       "    .dataframe thead th {\n",
       "        text-align: right;\n",
       "    }\n",
       "</style>\n",
       "<table border=\"1\" class=\"dataframe\">\n",
       "  <thead>\n",
       "    <tr style=\"text-align: right;\">\n",
       "      <th></th>\n",
       "      <th>company_permalink</th>\n",
       "      <th>permalink</th>\n",
       "    </tr>\n",
       "  </thead>\n",
       "  <tbody>\n",
       "    <tr>\n",
       "      <th>0</th>\n",
       "      <td>/organization/-fame</td>\n",
       "      <td>/organization/-fame</td>\n",
       "    </tr>\n",
       "    <tr>\n",
       "      <th>1</th>\n",
       "      <td>/organization/-qounter</td>\n",
       "      <td>/organization/-qounter</td>\n",
       "    </tr>\n",
       "    <tr>\n",
       "      <th>2</th>\n",
       "      <td>/organization/-qounter</td>\n",
       "      <td>/organization/-qounter</td>\n",
       "    </tr>\n",
       "    <tr>\n",
       "      <th>3</th>\n",
       "      <td>/organization/-the-one-of-them-inc-</td>\n",
       "      <td>/organization/-the-one-of-them-inc-</td>\n",
       "    </tr>\n",
       "    <tr>\n",
       "      <th>4</th>\n",
       "      <td>/organization/0-6-com</td>\n",
       "      <td>/organization/0-6-com</td>\n",
       "    </tr>\n",
       "  </tbody>\n",
       "</table>\n",
       "</div>"
      ],
      "text/plain": [
       "                     company_permalink                            permalink\n",
       "0                  /organization/-fame                  /organization/-fame\n",
       "1               /organization/-qounter               /organization/-qounter\n",
       "2               /organization/-qounter               /organization/-qounter\n",
       "3  /organization/-the-one-of-them-inc-  /organization/-the-one-of-them-inc-\n",
       "4                /organization/0-6-com                /organization/0-6-com"
      ]
     },
     "execution_count": 14,
     "metadata": {},
     "output_type": "execute_result"
    }
   ],
   "source": [
    "master_frame[[\"company_permalink\",\"permalink\"]].head(5)"
   ]
  },
  {
   "cell_type": "markdown",
   "metadata": {},
   "source": [
    "## <font color='green'>Data Cleaning</font>\n",
    "\n",
    "#### 1. Droping duplicate column : `'permalink'` from master_frame"
   ]
  },
  {
   "cell_type": "code",
   "execution_count": 15,
   "metadata": {},
   "outputs": [],
   "source": [
    "master_frame = master_frame.drop('permalink', axis=1)"
   ]
  },
  {
   "cell_type": "markdown",
   "metadata": {},
   "source": [
    "2. Treating Missing values in Columns\n",
    "    - Calculated percentage of missing values in each column\n",
    "    - Based on percentage of missing values in each column, we can decide if we need to delete or Impute the columns/rows\n"
   ]
  },
  {
   "cell_type": "code",
   "execution_count": 16,
   "metadata": {},
   "outputs": [
    {
     "data": {
      "text/plain": [
       "company_permalink           0.00\n",
       "funding_round_permalink     0.00\n",
       "funding_round_type          0.00\n",
       "funding_round_code         72.91\n",
       "funded_at                   0.00\n",
       "raised_amount_usd          17.39\n",
       "name                        0.00\n",
       "homepage_url                5.34\n",
       "category_list               2.97\n",
       "status                      0.00\n",
       "country_code                7.55\n",
       "state_code                  9.52\n",
       "region                      8.84\n",
       "city                        8.84\n",
       "founded_at                 17.85\n",
       "dtype: float64"
      ]
     },
     "execution_count": 16,
     "metadata": {},
     "output_type": "execute_result"
    }
   ],
   "source": [
    "round(100*(master_frame.isnull().sum()/len(master_frame.index)), 2)"
   ]
  },
  {
   "cell_type": "markdown",
   "metadata": {},
   "source": [
    "#### Inference from above output\n",
    "\n",
    "\n",
    "* `'funding_round_code'` column has ~73% and `'founded_at'` date column has ~18% of values missing. So let's remove these columns.\n",
    "\n",
    "\n",
    "* We can also delete the rows where `'raised_amount_usd'` is Null as these rows will not contribute to our analysis\n",
    "\n",
    "\n",
    "* Not dropping other columns as they have less than 10% of missing values"
   ]
  },
  {
   "cell_type": "code",
   "execution_count": 17,
   "metadata": {},
   "outputs": [],
   "source": [
    "master_frame = master_frame.drop('funding_round_code', axis=1)\n",
    "master_frame = master_frame.drop('founded_at', axis=1)\n",
    "master_frame = master_frame.dropna(subset = ['raised_amount_usd'])"
   ]
  },
  {
   "cell_type": "code",
   "execution_count": 18,
   "metadata": {},
   "outputs": [
    {
     "data": {
      "text/plain": [
       "company_permalink          0.00\n",
       "funding_round_permalink    0.00\n",
       "funding_round_type         0.00\n",
       "funded_at                  0.00\n",
       "raised_amount_usd          0.00\n",
       "name                       0.00\n",
       "homepage_url               4.56\n",
       "category_list              1.10\n",
       "status                     0.00\n",
       "country_code               6.16\n",
       "state_code                 8.01\n",
       "region                     7.42\n",
       "city                       7.42\n",
       "dtype: float64"
      ]
     },
     "execution_count": 18,
     "metadata": {},
     "output_type": "execute_result"
    }
   ],
   "source": [
    "round(100*(master_frame.isnull().sum()/len(master_frame.index)), 2)"
   ]
  },
  {
   "cell_type": "markdown",
   "metadata": {},
   "source": [
    "* We can also drop columns `'homepage_url, state_code, region and city'` as they do not bring any value for our analysis. Hence removing these columns as well."
   ]
  },
  {
   "cell_type": "code",
   "execution_count": 19,
   "metadata": {},
   "outputs": [],
   "source": [
    "master_frame = master_frame.drop('homepage_url', axis=1)\n",
    "master_frame = master_frame.drop('state_code', axis=1)\n",
    "master_frame = master_frame.drop('region', axis=1)\n",
    "master_frame = master_frame.drop('city', axis=1)"
   ]
  },
  {
   "cell_type": "code",
   "execution_count": 20,
   "metadata": {},
   "outputs": [
    {
     "data": {
      "text/plain": [
       "company_permalink          0.00\n",
       "funding_round_permalink    0.00\n",
       "funding_round_type         0.00\n",
       "funded_at                  0.00\n",
       "raised_amount_usd          0.00\n",
       "name                       0.00\n",
       "category_list              1.10\n",
       "status                     0.00\n",
       "country_code               6.16\n",
       "dtype: float64"
      ]
     },
     "execution_count": 20,
     "metadata": {},
     "output_type": "execute_result"
    }
   ],
   "source": [
    "round(100*(master_frame.isnull().sum()/len(master_frame.index)), 2)"
   ]
  },
  {
   "cell_type": "markdown",
   "metadata": {},
   "source": [
    "* We can ignore the null values of `'category_list & country_code'` as removing those rows will affect our analysis and also lead to loss of important data. \n",
    "\n",
    "##### Now we are ready to go further with our analysis."
   ]
  },
  {
   "cell_type": "markdown",
   "metadata": {},
   "source": [
    "\n",
    "# Checkpoint 2: Funding Type Analysis\n",
    "\n",
    "* As we need to analyse only 4 funding funding types, removing entries of other funding types from master_frame\n"
   ]
  },
  {
   "cell_type": "code",
   "execution_count": 21,
   "metadata": {},
   "outputs": [],
   "source": [
    "master_frame = master_frame[master_frame.funding_round_type.isin([\"venture\",\"seed\",\"angel\",\"private_equity\"])]"
   ]
  },
  {
   "cell_type": "markdown",
   "metadata": {},
   "source": [
    "* Finding out mean funding amount for `venture`, `seed`, `angel` and `private equity type`"
   ]
  },
  {
   "cell_type": "code",
   "execution_count": 22,
   "metadata": {},
   "outputs": [
    {
     "data": {
      "text/html": [
       "<div>\n",
       "<style scoped>\n",
       "    .dataframe tbody tr th:only-of-type {\n",
       "        vertical-align: middle;\n",
       "    }\n",
       "\n",
       "    .dataframe tbody tr th {\n",
       "        vertical-align: top;\n",
       "    }\n",
       "\n",
       "    .dataframe thead th {\n",
       "        text-align: right;\n",
       "    }\n",
       "</style>\n",
       "<table border=\"1\" class=\"dataframe\">\n",
       "  <thead>\n",
       "    <tr style=\"text-align: right;\">\n",
       "      <th></th>\n",
       "      <th>funding_round_type</th>\n",
       "      <th>raised_amount_usd</th>\n",
       "    </tr>\n",
       "  </thead>\n",
       "  <tbody>\n",
       "    <tr>\n",
       "      <th>0</th>\n",
       "      <td>seed</td>\n",
       "      <td>719818.00</td>\n",
       "    </tr>\n",
       "    <tr>\n",
       "      <th>1</th>\n",
       "      <td>angel</td>\n",
       "      <td>958694.47</td>\n",
       "    </tr>\n",
       "    <tr>\n",
       "      <th>2</th>\n",
       "      <td>venture</td>\n",
       "      <td>11748949.13</td>\n",
       "    </tr>\n",
       "    <tr>\n",
       "      <th>3</th>\n",
       "      <td>private_equity</td>\n",
       "      <td>73308593.03</td>\n",
       "    </tr>\n",
       "  </tbody>\n",
       "</table>\n",
       "</div>"
      ],
      "text/plain": [
       "  funding_round_type  raised_amount_usd\n",
       "0               seed          719818.00\n",
       "1              angel          958694.47\n",
       "2            venture        11748949.13\n",
       "3     private_equity        73308593.03"
      ]
     },
     "execution_count": 22,
     "metadata": {},
     "output_type": "execute_result"
    }
   ],
   "source": [
    "pd.options.display.float_format = '{:.2f}'.format\n",
    "avg_amt = pd.DataFrame(master_frame.groupby([\"funding_round_type\"])[\"raised_amount_usd\"].mean().sort_values()).reset_index()\n",
    "avg_amt"
   ]
  },
  {
   "cell_type": "code",
   "execution_count": 23,
   "metadata": {},
   "outputs": [
    {
     "data": {
      "text/html": [
       "<div>\n",
       "<style scoped>\n",
       "    .dataframe tbody tr th:only-of-type {\n",
       "        vertical-align: middle;\n",
       "    }\n",
       "\n",
       "    .dataframe tbody tr th {\n",
       "        vertical-align: top;\n",
       "    }\n",
       "\n",
       "    .dataframe thead th {\n",
       "        text-align: right;\n",
       "    }\n",
       "</style>\n",
       "<table border=\"1\" class=\"dataframe\">\n",
       "  <thead>\n",
       "    <tr style=\"text-align: right;\">\n",
       "      <th></th>\n",
       "      <th>Round Type</th>\n",
       "      <th>Average Amount raised</th>\n",
       "    </tr>\n",
       "  </thead>\n",
       "  <tbody>\n",
       "    <tr>\n",
       "      <th>0</th>\n",
       "      <td>seed</td>\n",
       "      <td>0.72 M</td>\n",
       "    </tr>\n",
       "    <tr>\n",
       "      <th>1</th>\n",
       "      <td>angel</td>\n",
       "      <td>0.96 M</td>\n",
       "    </tr>\n",
       "    <tr>\n",
       "      <th>2</th>\n",
       "      <td>venture</td>\n",
       "      <td>11.75 M</td>\n",
       "    </tr>\n",
       "    <tr>\n",
       "      <th>3</th>\n",
       "      <td>private_equity</td>\n",
       "      <td>73.31 M</td>\n",
       "    </tr>\n",
       "  </tbody>\n",
       "</table>\n",
       "</div>"
      ],
      "text/plain": [
       "       Round Type Average Amount raised\n",
       "0            seed                0.72 M\n",
       "1           angel                0.96 M\n",
       "2         venture               11.75 M\n",
       "3  private_equity               73.31 M"
      ]
     },
     "execution_count": 23,
     "metadata": {},
     "output_type": "execute_result"
    }
   ],
   "source": [
    "avg_amt[\"raised_amount_usd\"] = avg_amt[\"raised_amount_usd\"].apply(lambda x: str(round(x/1000000,2)) + ' M')\n",
    "avg_amt.rename(columns={\"funding_round_type\" : \"Round Type\",\"raised_amount_usd\" : \"Average Amount raised\"},inplace=True)\n",
    "avg_amt"
   ]
  },
  {
   "cell_type": "markdown",
   "metadata": {},
   "source": [
    "#### Inference from above output\n",
    "\n",
    "- As per constraint of Spark Funds, they wants to invest between 5 to 15 million USD per round of investment. So `'VENTURE'` funding will be the most appropriate for them"
   ]
  },
  {
   "cell_type": "code",
   "execution_count": 24,
   "metadata": {},
   "outputs": [
    {
     "data": {
      "text/html": [
       "<div>\n",
       "<style scoped>\n",
       "    .dataframe tbody tr th:only-of-type {\n",
       "        vertical-align: middle;\n",
       "    }\n",
       "\n",
       "    .dataframe tbody tr th {\n",
       "        vertical-align: top;\n",
       "    }\n",
       "\n",
       "    .dataframe thead th {\n",
       "        text-align: right;\n",
       "    }\n",
       "</style>\n",
       "<table border=\"1\" class=\"dataframe\">\n",
       "  <thead>\n",
       "    <tr style=\"text-align: right;\">\n",
       "      <th></th>\n",
       "      <th>Round Type</th>\n",
       "      <th>Total Amount raised</th>\n",
       "    </tr>\n",
       "  </thead>\n",
       "  <tbody>\n",
       "    <tr>\n",
       "      <th>0</th>\n",
       "      <td>angel</td>\n",
       "      <td>4.66 B</td>\n",
       "    </tr>\n",
       "    <tr>\n",
       "      <th>1</th>\n",
       "      <td>seed</td>\n",
       "      <td>16.99 B</td>\n",
       "    </tr>\n",
       "    <tr>\n",
       "      <th>2</th>\n",
       "      <td>private_equity</td>\n",
       "      <td>141.93 B</td>\n",
       "    </tr>\n",
       "    <tr>\n",
       "      <th>3</th>\n",
       "      <td>venture</td>\n",
       "      <td>590.13 B</td>\n",
       "    </tr>\n",
       "  </tbody>\n",
       "</table>\n",
       "</div>"
      ],
      "text/plain": [
       "       Round Type Total Amount raised\n",
       "0           angel              4.66 B\n",
       "1            seed             16.99 B\n",
       "2  private_equity            141.93 B\n",
       "3         venture            590.13 B"
      ]
     },
     "execution_count": 24,
     "metadata": {},
     "output_type": "execute_result"
    }
   ],
   "source": [
    "tot_amt = pd.DataFrame(master_frame.groupby([\"funding_round_type\"])[\"raised_amount_usd\"].sum().sort_values()).reset_index()\n",
    "tot_amt[\"raised_amount_usd\"] = tot_amt[\"raised_amount_usd\"].apply(lambda x: str(round(x/1000000000,2)) + ' B')\n",
    "tot_amt.rename(columns={\"funding_round_type\" : \"Round Type\",\"raised_amount_usd\" : \"Total Amount raised\"},inplace=True)\n",
    "tot_amt"
   ]
  },
  {
   "cell_type": "code",
   "execution_count": 25,
   "metadata": {},
   "outputs": [
    {
     "data": {
      "image/png": "[encoded data removed]",
      "text/plain": [
       "<Figure size 600x480 with 1 Axes>"
      ]
     },
     "metadata": {},
     "output_type": "display_data"
    }
   ],
   "source": [
    "plt.figure(figsize=(10,8),dpi=60)\n",
    "\n",
    "b = sns.boxplot(x='funding_round_type', y='raised_amount_usd', palette = \"rocket\", data=master_frame)\n",
    "b.tick_params(labelsize=15)\n",
    "b.axes.set_title(\"Boxplot (Funding Type vs Amount raised)\",fontsize=23)\n",
    "b.set_xlabel(\"Funding Type\",fontsize=20)\n",
    "b.set_ylabel(\"Amount raised in USD\",fontsize=20)\n",
    "\n",
    "plt.yscale('log')\n",
    "plt.show()"
   ]
  },
  {
   "cell_type": "markdown",
   "metadata": {},
   "source": [
    "#### Filtering Data further\n",
    "\n",
    "* Filtering out data only for funnding type `'VENTURE'`"
   ]
  },
  {
   "cell_type": "code",
   "execution_count": 26,
   "metadata": {},
   "outputs": [],
   "source": [
    "# creating a copy of master_frame for plotting of charts in Checkpoint 6\n",
    "original_master_frame = master_frame\n",
    "master_frame = master_frame[master_frame.funding_round_type.isin([\"venture\"])]"
   ]
  },
  {
   "cell_type": "code",
   "execution_count": 27,
   "metadata": {},
   "outputs": [
    {
     "data": {
      "text/plain": [
       "(50228, 9)"
      ]
     },
     "execution_count": 27,
     "metadata": {},
     "output_type": "execute_result"
    }
   ],
   "source": [
    "master_frame.shape"
   ]
  },
  {
   "cell_type": "markdown",
   "metadata": {},
   "source": [
    "\n",
    "# Checkpoint 3: Country Analysis\n",
    "\n",
    "#### <font color=green>Spark Funds wants to invest in countries with the highest amount of funding for the chosen investment type. This is a part of its broader strategy to invest where most investments are occurring.</font> <br>\n",
    "\n",
    "\n",
    "1. Spark Funds wants to see the top nine countries which have received the highest total funding (across ALL sectors for the `'VENTURE'` investment type)\n",
    "\n",
    "\n",
    "2. For the `'VENTURE'` investment type, make a data frame named top9 with the top nine countries (based on the total investment amount each country has received)\n"
   ]
  },
  {
   "cell_type": "code",
   "execution_count": 28,
   "metadata": {},
   "outputs": [
    {
     "data": {
      "text/html": [
       "<div>\n",
       "<style scoped>\n",
       "    .dataframe tbody tr th:only-of-type {\n",
       "        vertical-align: middle;\n",
       "    }\n",
       "\n",
       "    .dataframe tbody tr th {\n",
       "        vertical-align: top;\n",
       "    }\n",
       "\n",
       "    .dataframe thead th {\n",
       "        text-align: right;\n",
       "    }\n",
       "</style>\n",
       "<table border=\"1\" class=\"dataframe\">\n",
       "  <thead>\n",
       "    <tr style=\"text-align: right;\">\n",
       "      <th></th>\n",
       "      <th>country_code</th>\n",
       "      <th>raised_amount_usd</th>\n",
       "    </tr>\n",
       "  </thead>\n",
       "  <tbody>\n",
       "    <tr>\n",
       "      <th>0</th>\n",
       "      <td>USA</td>\n",
       "      <td>422510842796.00</td>\n",
       "    </tr>\n",
       "    <tr>\n",
       "      <th>1</th>\n",
       "      <td>CHN</td>\n",
       "      <td>39835418773.00</td>\n",
       "    </tr>\n",
       "    <tr>\n",
       "      <th>2</th>\n",
       "      <td>GBR</td>\n",
       "      <td>20245627416.00</td>\n",
       "    </tr>\n",
       "    <tr>\n",
       "      <th>3</th>\n",
       "      <td>IND</td>\n",
       "      <td>14391858718.00</td>\n",
       "    </tr>\n",
       "    <tr>\n",
       "      <th>4</th>\n",
       "      <td>CAN</td>\n",
       "      <td>9583332317.00</td>\n",
       "    </tr>\n",
       "    <tr>\n",
       "      <th>5</th>\n",
       "      <td>FRA</td>\n",
       "      <td>7259536732.00</td>\n",
       "    </tr>\n",
       "    <tr>\n",
       "      <th>6</th>\n",
       "      <td>ISR</td>\n",
       "      <td>6907514579.00</td>\n",
       "    </tr>\n",
       "    <tr>\n",
       "      <th>7</th>\n",
       "      <td>DEU</td>\n",
       "      <td>6346959822.00</td>\n",
       "    </tr>\n",
       "    <tr>\n",
       "      <th>8</th>\n",
       "      <td>JPN</td>\n",
       "      <td>3363676611.00</td>\n",
       "    </tr>\n",
       "  </tbody>\n",
       "</table>\n",
       "</div>"
      ],
      "text/plain": [
       "  country_code  raised_amount_usd\n",
       "0          USA    422510842796.00\n",
       "1          CHN     39835418773.00\n",
       "2          GBR     20245627416.00\n",
       "3          IND     14391858718.00\n",
       "4          CAN      9583332317.00\n",
       "5          FRA      7259536732.00\n",
       "6          ISR      6907514579.00\n",
       "7          DEU      6346959822.00\n",
       "8          JPN      3363676611.00"
      ]
     },
     "execution_count": 28,
     "metadata": {},
     "output_type": "execute_result"
    }
   ],
   "source": [
    "top9 = pd.DataFrame(master_frame.groupby([\"country_code\"])[\"raised_amount_usd\"].sum()).sort_values(by='raised_amount_usd',ascending=False)[:9]\n",
    "top9 = top9.reset_index()\n",
    "top9"
   ]
  },
  {
   "cell_type": "markdown",
   "metadata": {},
   "source": [
    "### Identify the top three English-speaking countries in the data frame top9."
   ]
  },
  {
   "cell_type": "code",
   "execution_count": 29,
   "metadata": {},
   "outputs": [
    {
     "data": {
      "text/html": [
       "<div>\n",
       "<style scoped>\n",
       "    .dataframe tbody tr th:only-of-type {\n",
       "        vertical-align: middle;\n",
       "    }\n",
       "\n",
       "    .dataframe tbody tr th {\n",
       "        vertical-align: top;\n",
       "    }\n",
       "\n",
       "    .dataframe thead th {\n",
       "        text-align: right;\n",
       "    }\n",
       "</style>\n",
       "<table border=\"1\" class=\"dataframe\">\n",
       "  <thead>\n",
       "    <tr style=\"text-align: right;\">\n",
       "      <th></th>\n",
       "      <th>Country Code</th>\n",
       "      <th>Total Amount raised</th>\n",
       "      <th>English Speaking</th>\n",
       "    </tr>\n",
       "  </thead>\n",
       "  <tbody>\n",
       "    <tr>\n",
       "      <th>0</th>\n",
       "      <td>USA</td>\n",
       "      <td>422.51 B</td>\n",
       "      <td>Yes</td>\n",
       "    </tr>\n",
       "    <tr>\n",
       "      <th>1</th>\n",
       "      <td>CHN</td>\n",
       "      <td>39.84 B</td>\n",
       "      <td>No</td>\n",
       "    </tr>\n",
       "    <tr>\n",
       "      <th>2</th>\n",
       "      <td>GBR</td>\n",
       "      <td>20.25 B</td>\n",
       "      <td>Yes</td>\n",
       "    </tr>\n",
       "    <tr>\n",
       "      <th>3</th>\n",
       "      <td>IND</td>\n",
       "      <td>14.39 B</td>\n",
       "      <td>Yes</td>\n",
       "    </tr>\n",
       "    <tr>\n",
       "      <th>4</th>\n",
       "      <td>CAN</td>\n",
       "      <td>9.58 B</td>\n",
       "      <td>Yes</td>\n",
       "    </tr>\n",
       "    <tr>\n",
       "      <th>5</th>\n",
       "      <td>FRA</td>\n",
       "      <td>7.26 B</td>\n",
       "      <td>No</td>\n",
       "    </tr>\n",
       "    <tr>\n",
       "      <th>6</th>\n",
       "      <td>ISR</td>\n",
       "      <td>6.91 B</td>\n",
       "      <td>Yes</td>\n",
       "    </tr>\n",
       "    <tr>\n",
       "      <th>7</th>\n",
       "      <td>DEU</td>\n",
       "      <td>6.35 B</td>\n",
       "      <td>No</td>\n",
       "    </tr>\n",
       "    <tr>\n",
       "      <th>8</th>\n",
       "      <td>JPN</td>\n",
       "      <td>3.36 B</td>\n",
       "      <td>No</td>\n",
       "    </tr>\n",
       "  </tbody>\n",
       "</table>\n",
       "</div>"
      ],
      "text/plain": [
       "  Country Code Total Amount raised English Speaking\n",
       "0          USA            422.51 B              Yes\n",
       "1          CHN             39.84 B               No\n",
       "2          GBR             20.25 B              Yes\n",
       "3          IND             14.39 B              Yes\n",
       "4          CAN              9.58 B              Yes\n",
       "5          FRA              7.26 B               No\n",
       "6          ISR              6.91 B              Yes\n",
       "7          DEU              6.35 B               No\n",
       "8          JPN              3.36 B               No"
      ]
     },
     "execution_count": 29,
     "metadata": {},
     "output_type": "execute_result"
    }
   ],
   "source": [
    "non_eng_country = [\"CHN\",\"FRA\",\"DEU\",\"JPN\"]\n",
    "\n",
    "temp_top9 = top9.copy()\n",
    "temp_top9[\"raised_amount_usd\"] = temp_top9[\"raised_amount_usd\"].apply(lambda x: str(round(x/1000000000,2))+\" B\")\n",
    "temp_top9[\"English Speaking\"] = temp_top9[\"country_code\"].apply(lambda x: \"No\" if x in non_eng_country else \"Yes\")\n",
    "temp_top9.rename(columns={\"country_code\" : \"Country Code\",\"raised_amount_usd\" : \"Total Amount raised\"},inplace=True)\n",
    "temp_top9"
   ]
  },
  {
   "cell_type": "code",
   "execution_count": 30,
   "metadata": {},
   "outputs": [
    {
     "data": {
      "text/html": [
       "<div>\n",
       "<style scoped>\n",
       "    .dataframe tbody tr th:only-of-type {\n",
       "        vertical-align: middle;\n",
       "    }\n",
       "\n",
       "    .dataframe tbody tr th {\n",
       "        vertical-align: top;\n",
       "    }\n",
       "\n",
       "    .dataframe thead th {\n",
       "        text-align: right;\n",
       "    }\n",
       "</style>\n",
       "<table border=\"1\" class=\"dataframe\">\n",
       "  <thead>\n",
       "    <tr style=\"text-align: right;\">\n",
       "      <th></th>\n",
       "      <th>Country Code</th>\n",
       "      <th>Total Amount raised</th>\n",
       "      <th>English Speaking</th>\n",
       "    </tr>\n",
       "  </thead>\n",
       "  <tbody>\n",
       "    <tr>\n",
       "      <th>0</th>\n",
       "      <td>USA</td>\n",
       "      <td>422.51 B</td>\n",
       "      <td>Yes</td>\n",
       "    </tr>\n",
       "    <tr>\n",
       "      <th>2</th>\n",
       "      <td>GBR</td>\n",
       "      <td>20.25 B</td>\n",
       "      <td>Yes</td>\n",
       "    </tr>\n",
       "    <tr>\n",
       "      <th>3</th>\n",
       "      <td>IND</td>\n",
       "      <td>14.39 B</td>\n",
       "      <td>Yes</td>\n",
       "    </tr>\n",
       "  </tbody>\n",
       "</table>\n",
       "</div>"
      ],
      "text/plain": [
       "  Country Code Total Amount raised English Speaking\n",
       "0          USA            422.51 B              Yes\n",
       "2          GBR             20.25 B              Yes\n",
       "3          IND             14.39 B              Yes"
      ]
     },
     "execution_count": 30,
     "metadata": {},
     "output_type": "execute_result"
    }
   ],
   "source": [
    "temp_top9[temp_top9[\"English Speaking\"] == 'Yes'][:3]"
   ]
  },
  {
   "cell_type": "code",
   "execution_count": 31,
   "metadata": {},
   "outputs": [
    {
     "name": "stdout",
     "output_type": "stream",
     "text": [
      "Top 3 English Speaking Countries : USA, GBR, IND\n"
     ]
    }
   ],
   "source": [
    "top3 = list(temp_top9[temp_top9[\"English Speaking\"] == 'Yes'][:3][\"Country Code\"])\n",
    "print(\"Top 3 English Speaking Countries : \" + \", \".join(top3))"
   ]
  },
  {
   "cell_type": "markdown",
   "metadata": {},
   "source": [
    "\n",
    "\n",
    "# Checkpoint 4: Sector Analysis 1\n",
    "\n",
    "\n",
    "1. Extract the primary sector of each category list from the category_list column\n"
   ]
  },
  {
   "cell_type": "code",
   "execution_count": 32,
   "metadata": {},
   "outputs": [],
   "source": [
    "master_frame[\"primary_sector\"] = master_frame[\"category_list\"].apply(lambda x: x if pd.isna(x) else str(x).split('|')[0])\n",
    "master_frame[\"primary_sector\"] = master_frame[\"primary_sector\"].str.lower()"
   ]
  },
  {
   "cell_type": "markdown",
   "metadata": {},
   "source": [
    "\n",
    "2. Use the mapping file 'mapping.csv' to map each primary sector to one of the eight main sectors (Note that ‘Others’ is also considered one of the main sectors)"
   ]
  },
  {
   "cell_type": "code",
   "execution_count": 33,
   "metadata": {},
   "outputs": [
    {
     "data": {
      "text/html": [
       "<div>\n",
       "<style scoped>\n",
       "    .dataframe tbody tr th:only-of-type {\n",
       "        vertical-align: middle;\n",
       "    }\n",
       "\n",
       "    .dataframe tbody tr th {\n",
       "        vertical-align: top;\n",
       "    }\n",
       "\n",
       "    .dataframe thead th {\n",
       "        text-align: right;\n",
       "    }\n",
       "</style>\n",
       "<table border=\"1\" class=\"dataframe\">\n",
       "  <thead>\n",
       "    <tr style=\"text-align: right;\">\n",
       "      <th></th>\n",
       "      <th>category_list</th>\n",
       "      <th>Automotive &amp; Sports</th>\n",
       "      <th>Blanks</th>\n",
       "      <th>Cleantech / Semiconductors</th>\n",
       "      <th>Entertainment</th>\n",
       "      <th>Health</th>\n",
       "      <th>Manufacturing</th>\n",
       "      <th>News, Search and Messaging</th>\n",
       "      <th>Others</th>\n",
       "      <th>Social, Finance, Analytics, Advertising</th>\n",
       "    </tr>\n",
       "  </thead>\n",
       "  <tbody>\n",
       "    <tr>\n",
       "      <th>0</th>\n",
       "      <td>NaN</td>\n",
       "      <td>0</td>\n",
       "      <td>1</td>\n",
       "      <td>0</td>\n",
       "      <td>0</td>\n",
       "      <td>0</td>\n",
       "      <td>0</td>\n",
       "      <td>0</td>\n",
       "      <td>0</td>\n",
       "      <td>0</td>\n",
       "    </tr>\n",
       "    <tr>\n",
       "      <th>1</th>\n",
       "      <td>3d</td>\n",
       "      <td>0</td>\n",
       "      <td>0</td>\n",
       "      <td>0</td>\n",
       "      <td>0</td>\n",
       "      <td>0</td>\n",
       "      <td>1</td>\n",
       "      <td>0</td>\n",
       "      <td>0</td>\n",
       "      <td>0</td>\n",
       "    </tr>\n",
       "    <tr>\n",
       "      <th>2</th>\n",
       "      <td>3d printing</td>\n",
       "      <td>0</td>\n",
       "      <td>0</td>\n",
       "      <td>0</td>\n",
       "      <td>0</td>\n",
       "      <td>0</td>\n",
       "      <td>1</td>\n",
       "      <td>0</td>\n",
       "      <td>0</td>\n",
       "      <td>0</td>\n",
       "    </tr>\n",
       "    <tr>\n",
       "      <th>3</th>\n",
       "      <td>3d technology</td>\n",
       "      <td>0</td>\n",
       "      <td>0</td>\n",
       "      <td>0</td>\n",
       "      <td>0</td>\n",
       "      <td>0</td>\n",
       "      <td>1</td>\n",
       "      <td>0</td>\n",
       "      <td>0</td>\n",
       "      <td>0</td>\n",
       "    </tr>\n",
       "    <tr>\n",
       "      <th>4</th>\n",
       "      <td>accounting</td>\n",
       "      <td>0</td>\n",
       "      <td>0</td>\n",
       "      <td>0</td>\n",
       "      <td>0</td>\n",
       "      <td>0</td>\n",
       "      <td>0</td>\n",
       "      <td>0</td>\n",
       "      <td>0</td>\n",
       "      <td>1</td>\n",
       "    </tr>\n",
       "  </tbody>\n",
       "</table>\n",
       "</div>"
      ],
      "text/plain": [
       "   category_list  Automotive & Sports  Blanks  Cleantech / Semiconductors  \\\n",
       "0            NaN                    0       1                           0   \n",
       "1             3d                    0       0                           0   \n",
       "2    3d printing                    0       0                           0   \n",
       "3  3d technology                    0       0                           0   \n",
       "4     accounting                    0       0                           0   \n",
       "\n",
       "   Entertainment  Health  Manufacturing  News, Search and Messaging  Others  \\\n",
       "0              0       0              0                           0       0   \n",
       "1              0       0              1                           0       0   \n",
       "2              0       0              1                           0       0   \n",
       "3              0       0              1                           0       0   \n",
       "4              0       0              0                           0       0   \n",
       "\n",
       "   Social, Finance, Analytics, Advertising  \n",
       "0                                        0  \n",
       "1                                        0  \n",
       "2                                        0  \n",
       "3                                        0  \n",
       "4                                        1  "
      ]
     },
     "execution_count": 33,
     "metadata": {},
     "output_type": "execute_result"
    }
   ],
   "source": [
    "mapping = pd.read_csv(\"mapping.csv\")\n",
    "mapping[\"category_list\"] = mapping[\"category_list\"].str.lower()\n",
    "mapping.head()"
   ]
  },
  {
   "cell_type": "markdown",
   "metadata": {},
   "source": [
    "#### <font color=green>Cleaning mapping dataframe</font>\n",
    "\n",
    "1. Replace `'0'` in category_list with `'na'`\n",
    "2. Using `'melt'` function to map `'category_list'` to corresponding `'Main Sector'` with `'1'` in values column"
   ]
  },
  {
   "cell_type": "code",
   "execution_count": 34,
   "metadata": {},
   "outputs": [
    {
     "data": {
      "text/html": [
       "<div>\n",
       "<style scoped>\n",
       "    .dataframe tbody tr th:only-of-type {\n",
       "        vertical-align: middle;\n",
       "    }\n",
       "\n",
       "    .dataframe tbody tr th {\n",
       "        vertical-align: top;\n",
       "    }\n",
       "\n",
       "    .dataframe thead th {\n",
       "        text-align: right;\n",
       "    }\n",
       "</style>\n",
       "<table border=\"1\" class=\"dataframe\">\n",
       "  <thead>\n",
       "    <tr style=\"text-align: right;\">\n",
       "      <th></th>\n",
       "      <th>primary_sector</th>\n",
       "      <th>main_sector</th>\n",
       "    </tr>\n",
       "  </thead>\n",
       "  <tbody>\n",
       "    <tr>\n",
       "      <th>0</th>\n",
       "      <td>adventure travel</td>\n",
       "      <td>Automotive &amp; Sports</td>\n",
       "    </tr>\n",
       "    <tr>\n",
       "      <th>1</th>\n",
       "      <td>aerospace</td>\n",
       "      <td>Automotive &amp; Sports</td>\n",
       "    </tr>\n",
       "    <tr>\n",
       "      <th>2</th>\n",
       "      <td>auto</td>\n",
       "      <td>Automotive &amp; Sports</td>\n",
       "    </tr>\n",
       "    <tr>\n",
       "      <th>3</th>\n",
       "      <td>automated kiosk</td>\n",
       "      <td>Automotive &amp; Sports</td>\n",
       "    </tr>\n",
       "    <tr>\n",
       "      <th>4</th>\n",
       "      <td>automotive</td>\n",
       "      <td>Automotive &amp; Sports</td>\n",
       "    </tr>\n",
       "    <tr>\n",
       "      <th>...</th>\n",
       "      <td>...</td>\n",
       "      <td>...</td>\n",
       "    </tr>\n",
       "    <tr>\n",
       "      <th>683</th>\n",
       "      <td>social recruiting</td>\n",
       "      <td>Social, Finance, Analytics, Advertising</td>\n",
       "    </tr>\n",
       "    <tr>\n",
       "      <th>684</th>\n",
       "      <td>social television</td>\n",
       "      <td>Social, Finance, Analytics, Advertising</td>\n",
       "    </tr>\n",
       "    <tr>\n",
       "      <th>685</th>\n",
       "      <td>social travel</td>\n",
       "      <td>Social, Finance, Analytics, Advertising</td>\n",
       "    </tr>\n",
       "    <tr>\n",
       "      <th>686</th>\n",
       "      <td>stock exchanges</td>\n",
       "      <td>Social, Finance, Analytics, Advertising</td>\n",
       "    </tr>\n",
       "    <tr>\n",
       "      <th>687</th>\n",
       "      <td>venture capital</td>\n",
       "      <td>Social, Finance, Analytics, Advertising</td>\n",
       "    </tr>\n",
       "  </tbody>\n",
       "</table>\n",
       "<p>688 rows × 2 columns</p>\n",
       "</div>"
      ],
      "text/plain": [
       "        primary_sector                              main_sector\n",
       "0     adventure travel                      Automotive & Sports\n",
       "1            aerospace                      Automotive & Sports\n",
       "2                 auto                      Automotive & Sports\n",
       "3      automated kiosk                      Automotive & Sports\n",
       "4           automotive                      Automotive & Sports\n",
       "..                 ...                                      ...\n",
       "683  social recruiting  Social, Finance, Analytics, Advertising\n",
       "684  social television  Social, Finance, Analytics, Advertising\n",
       "685      social travel  Social, Finance, Analytics, Advertising\n",
       "686    stock exchanges  Social, Finance, Analytics, Advertising\n",
       "687    venture capital  Social, Finance, Analytics, Advertising\n",
       "\n",
       "[688 rows x 2 columns]"
      ]
     },
     "execution_count": 34,
     "metadata": {},
     "output_type": "execute_result"
    }
   ],
   "source": [
    "mapping.category_list = mapping.category_list.apply(lambda x: str(x).replace('0','na'))\n",
    "mapping = mapping.melt(id_vars=\"category_list\",var_name=\"main_sector\")\n",
    "mapping = mapping[mapping.value == 1].reset_index()\n",
    "mapping.drop(columns={'value','index'},inplace=True)\n",
    "#mapping = mapping[~(mapping.main_sector == 'Blanks')]\n",
    "mapping.rename(columns={'category_list':'primary_sector'}, inplace=True)\n",
    "mapping"
   ]
  },
  {
   "cell_type": "code",
   "execution_count": 35,
   "metadata": {},
   "outputs": [],
   "source": [
    "#pd.merge(venture_frame,sector_mapping,how='inner',left_on='primary_sector',right_on='category_list')\n",
    "master_frame = pd.merge(master_frame,mapping,how='left',on='primary_sector')"
   ]
  },
  {
   "cell_type": "code",
   "execution_count": 36,
   "metadata": {},
   "outputs": [
    {
     "data": {
      "text/html": [
       "<div>\n",
       "<style scoped>\n",
       "    .dataframe tbody tr th:only-of-type {\n",
       "        vertical-align: middle;\n",
       "    }\n",
       "\n",
       "    .dataframe tbody tr th {\n",
       "        vertical-align: top;\n",
       "    }\n",
       "\n",
       "    .dataframe thead th {\n",
       "        text-align: right;\n",
       "    }\n",
       "</style>\n",
       "<table border=\"1\" class=\"dataframe\">\n",
       "  <thead>\n",
       "    <tr style=\"text-align: right;\">\n",
       "      <th></th>\n",
       "      <th>primary_sector</th>\n",
       "      <th>main_sector</th>\n",
       "    </tr>\n",
       "  </thead>\n",
       "  <tbody>\n",
       "    <tr>\n",
       "      <th>0</th>\n",
       "      <td>media</td>\n",
       "      <td>Entertainment</td>\n",
       "    </tr>\n",
       "    <tr>\n",
       "      <th>1</th>\n",
       "      <td>apps</td>\n",
       "      <td>News, Search and Messaging</td>\n",
       "    </tr>\n",
       "    <tr>\n",
       "      <th>2</th>\n",
       "      <td>curated web</td>\n",
       "      <td>News, Search and Messaging</td>\n",
       "    </tr>\n",
       "    <tr>\n",
       "      <th>3</th>\n",
       "      <td>biotechnology</td>\n",
       "      <td>Cleantech / Semiconductors</td>\n",
       "    </tr>\n",
       "    <tr>\n",
       "      <th>4</th>\n",
       "      <td>analytics</td>\n",
       "      <td>Social, Finance, Analytics, Advertising</td>\n",
       "    </tr>\n",
       "    <tr>\n",
       "      <th>...</th>\n",
       "      <td>...</td>\n",
       "      <td>...</td>\n",
       "    </tr>\n",
       "    <tr>\n",
       "      <th>50223</th>\n",
       "      <td>biotechnology</td>\n",
       "      <td>Cleantech / Semiconductors</td>\n",
       "    </tr>\n",
       "    <tr>\n",
       "      <th>50224</th>\n",
       "      <td>e-commerce</td>\n",
       "      <td>Others</td>\n",
       "    </tr>\n",
       "    <tr>\n",
       "      <th>50225</th>\n",
       "      <td>biotechnology</td>\n",
       "      <td>Cleantech / Semiconductors</td>\n",
       "    </tr>\n",
       "    <tr>\n",
       "      <th>50226</th>\n",
       "      <td>biotechnology</td>\n",
       "      <td>Cleantech / Semiconductors</td>\n",
       "    </tr>\n",
       "    <tr>\n",
       "      <th>50227</th>\n",
       "      <td>enterprise software</td>\n",
       "      <td>Others</td>\n",
       "    </tr>\n",
       "  </tbody>\n",
       "</table>\n",
       "<p>50228 rows × 2 columns</p>\n",
       "</div>"
      ],
      "text/plain": [
       "            primary_sector                              main_sector\n",
       "0                    media                            Entertainment\n",
       "1                     apps               News, Search and Messaging\n",
       "2              curated web               News, Search and Messaging\n",
       "3            biotechnology               Cleantech / Semiconductors\n",
       "4                analytics  Social, Finance, Analytics, Advertising\n",
       "...                    ...                                      ...\n",
       "50223        biotechnology               Cleantech / Semiconductors\n",
       "50224           e-commerce                                   Others\n",
       "50225        biotechnology               Cleantech / Semiconductors\n",
       "50226        biotechnology               Cleantech / Semiconductors\n",
       "50227  enterprise software                                   Others\n",
       "\n",
       "[50228 rows x 2 columns]"
      ]
     },
     "execution_count": 36,
     "metadata": {},
     "output_type": "execute_result"
    }
   ],
   "source": [
    "master_frame[[\"primary_sector\",\"main_sector\"]]"
   ]
  },
  {
   "cell_type": "markdown",
   "metadata": {},
   "source": [
    "\n",
    "    \n",
    "# Checkpoint 5: Sector Analysis 2\n",
    "\n",
    "\n",
    "#### Now, the aim is to find out the most heavily invested main sectors in each of the three countries (for funding type `'VENTURE'` and investments range of 5-15 M USD).\n",
    "\n",
    "\n",
    "#### <font color=green>Create three separate data frames D1, D2 and D3 for each of the three countries (USA, GBR, IND) for venture FT</font>"
   ]
  },
  {
   "cell_type": "code",
   "execution_count": 37,
   "metadata": {},
   "outputs": [
    {
     "data": {
      "text/html": [
       "<div>\n",
       "<style scoped>\n",
       "    .dataframe tbody tr th:only-of-type {\n",
       "        vertical-align: middle;\n",
       "    }\n",
       "\n",
       "    .dataframe tbody tr th {\n",
       "        vertical-align: top;\n",
       "    }\n",
       "\n",
       "    .dataframe thead th {\n",
       "        text-align: right;\n",
       "    }\n",
       "</style>\n",
       "<table border=\"1\" class=\"dataframe\">\n",
       "  <thead>\n",
       "    <tr style=\"text-align: right;\">\n",
       "      <th></th>\n",
       "      <th>company_permalink</th>\n",
       "      <th>funding_round_permalink</th>\n",
       "      <th>funding_round_type</th>\n",
       "      <th>funded_at</th>\n",
       "      <th>raised_amount_usd</th>\n",
       "      <th>name</th>\n",
       "      <th>category_list</th>\n",
       "      <th>status</th>\n",
       "      <th>country_code</th>\n",
       "      <th>primary_sector</th>\n",
       "      <th>main_sector</th>\n",
       "    </tr>\n",
       "  </thead>\n",
       "  <tbody>\n",
       "    <tr>\n",
       "      <th>6</th>\n",
       "      <td>/organization/0xdata</td>\n",
       "      <td>/funding-round/e1cfcbe1bdf4c70277c5f29a3482f24e</td>\n",
       "      <td>venture</td>\n",
       "      <td>19-07-2014</td>\n",
       "      <td>8900000.00</td>\n",
       "      <td>H2O.ai</td>\n",
       "      <td>Analytics</td>\n",
       "      <td>operating</td>\n",
       "      <td>USA</td>\n",
       "      <td>analytics</td>\n",
       "      <td>Social, Finance, Analytics, Advertising</td>\n",
       "    </tr>\n",
       "    <tr>\n",
       "      <th>7</th>\n",
       "      <td>/organization/1-mainstream</td>\n",
       "      <td>/funding-round/b952cbaf401f310927430c97b68162ea</td>\n",
       "      <td>venture</td>\n",
       "      <td>17-03-2015</td>\n",
       "      <td>5000000.00</td>\n",
       "      <td>1 Mainstream</td>\n",
       "      <td>Apps|Cable|Distribution|Software</td>\n",
       "      <td>acquired</td>\n",
       "      <td>USA</td>\n",
       "      <td>apps</td>\n",
       "      <td>News, Search and Messaging</td>\n",
       "    </tr>\n",
       "    <tr>\n",
       "      <th>33</th>\n",
       "      <td>/organization/128-technology</td>\n",
       "      <td>/funding-round/fb6216a30cb566ede89e0bee0623a634</td>\n",
       "      <td>venture</td>\n",
       "      <td>16-12-2014</td>\n",
       "      <td>11999347.00</td>\n",
       "      <td>128 Technology</td>\n",
       "      <td>Service Providers|Technology</td>\n",
       "      <td>operating</td>\n",
       "      <td>USA</td>\n",
       "      <td>service providers</td>\n",
       "      <td>Others</td>\n",
       "    </tr>\n",
       "    <tr>\n",
       "      <th>37</th>\n",
       "      <td>/organization/1366-technologies</td>\n",
       "      <td>/funding-round/424129ce1235cfab2655ee81305f7c2b</td>\n",
       "      <td>venture</td>\n",
       "      <td>15-10-2013</td>\n",
       "      <td>15000000.00</td>\n",
       "      <td>1366 Technologies</td>\n",
       "      <td>Manufacturing</td>\n",
       "      <td>operating</td>\n",
       "      <td>USA</td>\n",
       "      <td>manufacturing</td>\n",
       "      <td>Manufacturing</td>\n",
       "    </tr>\n",
       "    <tr>\n",
       "      <th>38</th>\n",
       "      <td>/organization/1366-technologies</td>\n",
       "      <td>/funding-round/6d3f3797371956ece035b8478c1441b2</td>\n",
       "      <td>venture</td>\n",
       "      <td>09-04-2015</td>\n",
       "      <td>5000000.00</td>\n",
       "      <td>1366 Technologies</td>\n",
       "      <td>Manufacturing</td>\n",
       "      <td>operating</td>\n",
       "      <td>USA</td>\n",
       "      <td>manufacturing</td>\n",
       "      <td>Manufacturing</td>\n",
       "    </tr>\n",
       "  </tbody>\n",
       "</table>\n",
       "</div>"
      ],
      "text/plain": [
       "                  company_permalink  \\\n",
       "6              /organization/0xdata   \n",
       "7        /organization/1-mainstream   \n",
       "33     /organization/128-technology   \n",
       "37  /organization/1366-technologies   \n",
       "38  /organization/1366-technologies   \n",
       "\n",
       "                            funding_round_permalink funding_round_type  \\\n",
       "6   /funding-round/e1cfcbe1bdf4c70277c5f29a3482f24e            venture   \n",
       "7   /funding-round/b952cbaf401f310927430c97b68162ea            venture   \n",
       "33  /funding-round/fb6216a30cb566ede89e0bee0623a634            venture   \n",
       "37  /funding-round/424129ce1235cfab2655ee81305f7c2b            venture   \n",
       "38  /funding-round/6d3f3797371956ece035b8478c1441b2            venture   \n",
       "\n",
       "     funded_at  raised_amount_usd               name  \\\n",
       "6   19-07-2014         8900000.00             H2O.ai   \n",
       "7   17-03-2015         5000000.00       1 Mainstream   \n",
       "33  16-12-2014        11999347.00     128 Technology   \n",
       "37  15-10-2013        15000000.00  1366 Technologies   \n",
       "38  09-04-2015         5000000.00  1366 Technologies   \n",
       "\n",
       "                       category_list     status country_code  \\\n",
       "6                          Analytics  operating          USA   \n",
       "7   Apps|Cable|Distribution|Software   acquired          USA   \n",
       "33      Service Providers|Technology  operating          USA   \n",
       "37                     Manufacturing  operating          USA   \n",
       "38                     Manufacturing  operating          USA   \n",
       "\n",
       "       primary_sector                              main_sector  \n",
       "6           analytics  Social, Finance, Analytics, Advertising  \n",
       "7                apps               News, Search and Messaging  \n",
       "33  service providers                                   Others  \n",
       "37      manufacturing                            Manufacturing  \n",
       "38      manufacturing                            Manufacturing  "
      ]
     },
     "execution_count": 37,
     "metadata": {},
     "output_type": "execute_result"
    }
   ],
   "source": [
    "D1 = master_frame[(master_frame.country_code=='USA') & (master_frame.raised_amount_usd>=5000000) & (master_frame.raised_amount_usd<=15000000)]\n",
    "D1.head()"
   ]
  },
  {
   "cell_type": "code",
   "execution_count": 38,
   "metadata": {},
   "outputs": [
    {
     "data": {
      "text/html": [
       "<div>\n",
       "<style scoped>\n",
       "    .dataframe tbody tr th:only-of-type {\n",
       "        vertical-align: middle;\n",
       "    }\n",
       "\n",
       "    .dataframe tbody tr th {\n",
       "        vertical-align: top;\n",
       "    }\n",
       "\n",
       "    .dataframe thead th {\n",
       "        text-align: right;\n",
       "    }\n",
       "</style>\n",
       "<table border=\"1\" class=\"dataframe\">\n",
       "  <thead>\n",
       "    <tr style=\"text-align: right;\">\n",
       "      <th></th>\n",
       "      <th>company_permalink</th>\n",
       "      <th>funding_round_permalink</th>\n",
       "      <th>funding_round_type</th>\n",
       "      <th>funded_at</th>\n",
       "      <th>raised_amount_usd</th>\n",
       "      <th>name</th>\n",
       "      <th>category_list</th>\n",
       "      <th>status</th>\n",
       "      <th>country_code</th>\n",
       "      <th>primary_sector</th>\n",
       "      <th>main_sector</th>\n",
       "    </tr>\n",
       "  </thead>\n",
       "  <tbody>\n",
       "    <tr>\n",
       "      <th>161</th>\n",
       "      <td>/organization/365scores</td>\n",
       "      <td>/funding-round/48212f931f542fdef78810bc87aef086</td>\n",
       "      <td>venture</td>\n",
       "      <td>29-09-2014</td>\n",
       "      <td>5500000.00</td>\n",
       "      <td>365Scores</td>\n",
       "      <td>Android|Apps|iPhone|Mobile|Sports</td>\n",
       "      <td>operating</td>\n",
       "      <td>GBR</td>\n",
       "      <td>android</td>\n",
       "      <td>Social, Finance, Analytics, Advertising</td>\n",
       "    </tr>\n",
       "    <tr>\n",
       "      <th>357</th>\n",
       "      <td>/organization/7digital</td>\n",
       "      <td>/funding-round/b5ad7ed7baddd3974bd51403f17dd88f</td>\n",
       "      <td>venture</td>\n",
       "      <td>01-01-2008</td>\n",
       "      <td>8468328.00</td>\n",
       "      <td>7digital</td>\n",
       "      <td>Content Creators|Content Delivery|Licensing|Mu...</td>\n",
       "      <td>acquired</td>\n",
       "      <td>GBR</td>\n",
       "      <td>content creators</td>\n",
       "      <td>Entertainment</td>\n",
       "    </tr>\n",
       "    <tr>\n",
       "      <th>358</th>\n",
       "      <td>/organization/7digital</td>\n",
       "      <td>/funding-round/eafacfcceb1fbc4fd605f641b603313e</td>\n",
       "      <td>venture</td>\n",
       "      <td>19-10-2012</td>\n",
       "      <td>10000000.00</td>\n",
       "      <td>7digital</td>\n",
       "      <td>Content Creators|Content Delivery|Licensing|Mu...</td>\n",
       "      <td>acquired</td>\n",
       "      <td>GBR</td>\n",
       "      <td>content creators</td>\n",
       "      <td>Entertainment</td>\n",
       "    </tr>\n",
       "    <tr>\n",
       "      <th>387</th>\n",
       "      <td>/organization/90min</td>\n",
       "      <td>/funding-round/21a2cbf6f2fb2a1c2a61e04bf930dfe6</td>\n",
       "      <td>venture</td>\n",
       "      <td>06-10-2015</td>\n",
       "      <td>15000000.00</td>\n",
       "      <td>90min</td>\n",
       "      <td>Media|News|Publishing|Soccer|Sports</td>\n",
       "      <td>operating</td>\n",
       "      <td>GBR</td>\n",
       "      <td>media</td>\n",
       "      <td>Entertainment</td>\n",
       "    </tr>\n",
       "    <tr>\n",
       "      <th>388</th>\n",
       "      <td>/organization/90min</td>\n",
       "      <td>/funding-round/bd626ed022f5c66574b1afe234f3c90d</td>\n",
       "      <td>venture</td>\n",
       "      <td>07-05-2013</td>\n",
       "      <td>5800000.00</td>\n",
       "      <td>90min</td>\n",
       "      <td>Media|News|Publishing|Soccer|Sports</td>\n",
       "      <td>operating</td>\n",
       "      <td>GBR</td>\n",
       "      <td>media</td>\n",
       "      <td>Entertainment</td>\n",
       "    </tr>\n",
       "  </tbody>\n",
       "</table>\n",
       "</div>"
      ],
      "text/plain": [
       "           company_permalink                          funding_round_permalink  \\\n",
       "161  /organization/365scores  /funding-round/48212f931f542fdef78810bc87aef086   \n",
       "357   /organization/7digital  /funding-round/b5ad7ed7baddd3974bd51403f17dd88f   \n",
       "358   /organization/7digital  /funding-round/eafacfcceb1fbc4fd605f641b603313e   \n",
       "387      /organization/90min  /funding-round/21a2cbf6f2fb2a1c2a61e04bf930dfe6   \n",
       "388      /organization/90min  /funding-round/bd626ed022f5c66574b1afe234f3c90d   \n",
       "\n",
       "    funding_round_type   funded_at  raised_amount_usd       name  \\\n",
       "161            venture  29-09-2014         5500000.00  365Scores   \n",
       "357            venture  01-01-2008         8468328.00   7digital   \n",
       "358            venture  19-10-2012        10000000.00   7digital   \n",
       "387            venture  06-10-2015        15000000.00      90min   \n",
       "388            venture  07-05-2013         5800000.00      90min   \n",
       "\n",
       "                                         category_list     status  \\\n",
       "161                  Android|Apps|iPhone|Mobile|Sports  operating   \n",
       "357  Content Creators|Content Delivery|Licensing|Mu...   acquired   \n",
       "358  Content Creators|Content Delivery|Licensing|Mu...   acquired   \n",
       "387                Media|News|Publishing|Soccer|Sports  operating   \n",
       "388                Media|News|Publishing|Soccer|Sports  operating   \n",
       "\n",
       "    country_code    primary_sector                              main_sector  \n",
       "161          GBR           android  Social, Finance, Analytics, Advertising  \n",
       "357          GBR  content creators                            Entertainment  \n",
       "358          GBR  content creators                            Entertainment  \n",
       "387          GBR             media                            Entertainment  \n",
       "388          GBR             media                            Entertainment  "
      ]
     },
     "execution_count": 38,
     "metadata": {},
     "output_type": "execute_result"
    }
   ],
   "source": [
    "D2 = master_frame[(master_frame.country_code=='GBR') & (master_frame.raised_amount_usd>=5000000) & (master_frame.raised_amount_usd<=15000000)]\n",
    "D2.head()"
   ]
  },
  {
   "cell_type": "code",
   "execution_count": 39,
   "metadata": {},
   "outputs": [
    {
     "data": {
      "text/html": [
       "<div>\n",
       "<style scoped>\n",
       "    .dataframe tbody tr th:only-of-type {\n",
       "        vertical-align: middle;\n",
       "    }\n",
       "\n",
       "    .dataframe tbody tr th {\n",
       "        vertical-align: top;\n",
       "    }\n",
       "\n",
       "    .dataframe thead th {\n",
       "        text-align: right;\n",
       "    }\n",
       "</style>\n",
       "<table border=\"1\" class=\"dataframe\">\n",
       "  <thead>\n",
       "    <tr style=\"text-align: right;\">\n",
       "      <th></th>\n",
       "      <th>company_permalink</th>\n",
       "      <th>funding_round_permalink</th>\n",
       "      <th>funding_round_type</th>\n",
       "      <th>funded_at</th>\n",
       "      <th>raised_amount_usd</th>\n",
       "      <th>name</th>\n",
       "      <th>category_list</th>\n",
       "      <th>status</th>\n",
       "      <th>country_code</th>\n",
       "      <th>primary_sector</th>\n",
       "      <th>main_sector</th>\n",
       "    </tr>\n",
       "  </thead>\n",
       "  <tbody>\n",
       "    <tr>\n",
       "      <th>0</th>\n",
       "      <td>/organization/-fame</td>\n",
       "      <td>/funding-round/9a01d05418af9f794eebff7ace91f638</td>\n",
       "      <td>venture</td>\n",
       "      <td>05-01-2015</td>\n",
       "      <td>10000000.00</td>\n",
       "      <td>#fame</td>\n",
       "      <td>Media</td>\n",
       "      <td>operating</td>\n",
       "      <td>IND</td>\n",
       "      <td>media</td>\n",
       "      <td>Entertainment</td>\n",
       "    </tr>\n",
       "    <tr>\n",
       "      <th>84</th>\n",
       "      <td>/organization/21diamonds-india</td>\n",
       "      <td>/funding-round/6de7ffef8091ba9f33821f4b861f434a</td>\n",
       "      <td>venture</td>\n",
       "      <td>15-11-2012</td>\n",
       "      <td>6369507.00</td>\n",
       "      <td>21Diamonds</td>\n",
       "      <td>E-Commerce</td>\n",
       "      <td>operating</td>\n",
       "      <td>IND</td>\n",
       "      <td>e-commerce</td>\n",
       "      <td>Others</td>\n",
       "    </tr>\n",
       "    <tr>\n",
       "      <th>423</th>\n",
       "      <td>/organization/a-little-world</td>\n",
       "      <td>/funding-round/18d98f82ed392b1609975b81f3e8b3fb</td>\n",
       "      <td>venture</td>\n",
       "      <td>09-09-2008</td>\n",
       "      <td>6410000.00</td>\n",
       "      <td>A LITTLE WORLD</td>\n",
       "      <td>Finance</td>\n",
       "      <td>operating</td>\n",
       "      <td>IND</td>\n",
       "      <td>finance</td>\n",
       "      <td>Social, Finance, Analytics, Advertising</td>\n",
       "    </tr>\n",
       "    <tr>\n",
       "      <th>1217</th>\n",
       "      <td>/organization/adlabs-imagica</td>\n",
       "      <td>/funding-round/508d3c83daaae9fda3ba6f9682c78f6c</td>\n",
       "      <td>venture</td>\n",
       "      <td>28-10-2014</td>\n",
       "      <td>8180000.00</td>\n",
       "      <td>Adlabs Imagica</td>\n",
       "      <td>Entertainment|Tourism</td>\n",
       "      <td>operating</td>\n",
       "      <td>IND</td>\n",
       "      <td>entertainment</td>\n",
       "      <td>Entertainment</td>\n",
       "    </tr>\n",
       "    <tr>\n",
       "      <th>1658</th>\n",
       "      <td>/organization/agile</td>\n",
       "      <td>/funding-round/cd3dd1c98ce9d0f632d8752163941674</td>\n",
       "      <td>venture</td>\n",
       "      <td>01-05-2011</td>\n",
       "      <td>5740000.00</td>\n",
       "      <td>Agile</td>\n",
       "      <td>Finance|Finance Technology|FinTech|Insurance</td>\n",
       "      <td>operating</td>\n",
       "      <td>IND</td>\n",
       "      <td>finance</td>\n",
       "      <td>Social, Finance, Analytics, Advertising</td>\n",
       "    </tr>\n",
       "  </tbody>\n",
       "</table>\n",
       "</div>"
      ],
      "text/plain": [
       "                   company_permalink  \\\n",
       "0                /organization/-fame   \n",
       "84    /organization/21diamonds-india   \n",
       "423     /organization/a-little-world   \n",
       "1217    /organization/adlabs-imagica   \n",
       "1658             /organization/agile   \n",
       "\n",
       "                              funding_round_permalink funding_round_type  \\\n",
       "0     /funding-round/9a01d05418af9f794eebff7ace91f638            venture   \n",
       "84    /funding-round/6de7ffef8091ba9f33821f4b861f434a            venture   \n",
       "423   /funding-round/18d98f82ed392b1609975b81f3e8b3fb            venture   \n",
       "1217  /funding-round/508d3c83daaae9fda3ba6f9682c78f6c            venture   \n",
       "1658  /funding-round/cd3dd1c98ce9d0f632d8752163941674            venture   \n",
       "\n",
       "       funded_at  raised_amount_usd            name  \\\n",
       "0     05-01-2015        10000000.00           #fame   \n",
       "84    15-11-2012         6369507.00      21Diamonds   \n",
       "423   09-09-2008         6410000.00  A LITTLE WORLD   \n",
       "1217  28-10-2014         8180000.00  Adlabs Imagica   \n",
       "1658  01-05-2011         5740000.00           Agile   \n",
       "\n",
       "                                     category_list     status country_code  \\\n",
       "0                                            Media  operating          IND   \n",
       "84                                      E-Commerce  operating          IND   \n",
       "423                                        Finance  operating          IND   \n",
       "1217                         Entertainment|Tourism  operating          IND   \n",
       "1658  Finance|Finance Technology|FinTech|Insurance  operating          IND   \n",
       "\n",
       "     primary_sector                              main_sector  \n",
       "0             media                            Entertainment  \n",
       "84       e-commerce                                   Others  \n",
       "423         finance  Social, Finance, Analytics, Advertising  \n",
       "1217  entertainment                            Entertainment  \n",
       "1658        finance  Social, Finance, Analytics, Advertising  "
      ]
     },
     "execution_count": 39,
     "metadata": {},
     "output_type": "execute_result"
    }
   ],
   "source": [
    "D3 = master_frame[(master_frame.country_code=='IND') & (master_frame.raised_amount_usd>=5000000) & (master_frame.raised_amount_usd<=15000000)]\n",
    "D3.head()"
   ]
  },
  {
   "cell_type": "markdown",
   "metadata": {},
   "source": [
    "* Using the three data frames, we can calculate the `'total number of investments'` and the `'total amount of investments'` in each main sector for each of the three countries."
   ]
  },
  {
   "cell_type": "code",
   "execution_count": 40,
   "metadata": {
    "scrolled": false
   },
   "outputs": [
    {
     "name": "stdout",
     "output_type": "stream",
     "text": [
      "Sectors in USA as per Total Amount of Investment\n"
     ]
    },
    {
     "data": {
      "text/html": [
       "<div>\n",
       "<style scoped>\n",
       "    .dataframe tbody tr th:only-of-type {\n",
       "        vertical-align: middle;\n",
       "    }\n",
       "\n",
       "    .dataframe tbody tr th {\n",
       "        vertical-align: top;\n",
       "    }\n",
       "\n",
       "    .dataframe thead th {\n",
       "        text-align: right;\n",
       "    }\n",
       "</style>\n",
       "<table border=\"1\" class=\"dataframe\">\n",
       "  <thead>\n",
       "    <tr style=\"text-align: right;\">\n",
       "      <th></th>\n",
       "      <th>main_sector</th>\n",
       "      <th>Total_Investments</th>\n",
       "      <th>No_of_Investments</th>\n",
       "    </tr>\n",
       "  </thead>\n",
       "  <tbody>\n",
       "    <tr>\n",
       "      <th>0</th>\n",
       "      <td>Others</td>\n",
       "      <td>26321007002.00</td>\n",
       "      <td>2950</td>\n",
       "    </tr>\n",
       "    <tr>\n",
       "      <th>1</th>\n",
       "      <td>Social, Finance, Analytics, Advertising</td>\n",
       "      <td>23807376964.00</td>\n",
       "      <td>2714</td>\n",
       "    </tr>\n",
       "    <tr>\n",
       "      <th>2</th>\n",
       "      <td>Cleantech / Semiconductors</td>\n",
       "      <td>21633430822.00</td>\n",
       "      <td>2350</td>\n",
       "    </tr>\n",
       "    <tr>\n",
       "      <th>3</th>\n",
       "      <td>News, Search and Messaging</td>\n",
       "      <td>13971567428.00</td>\n",
       "      <td>1583</td>\n",
       "    </tr>\n",
       "    <tr>\n",
       "      <th>4</th>\n",
       "      <td>Health</td>\n",
       "      <td>8211859357.00</td>\n",
       "      <td>909</td>\n",
       "    </tr>\n",
       "    <tr>\n",
       "      <th>5</th>\n",
       "      <td>Manufacturing</td>\n",
       "      <td>7258553378.00</td>\n",
       "      <td>799</td>\n",
       "    </tr>\n",
       "    <tr>\n",
       "      <th>6</th>\n",
       "      <td>Entertainment</td>\n",
       "      <td>5099197982.00</td>\n",
       "      <td>591</td>\n",
       "    </tr>\n",
       "    <tr>\n",
       "      <th>7</th>\n",
       "      <td>Automotive &amp; Sports</td>\n",
       "      <td>1454104361.00</td>\n",
       "      <td>167</td>\n",
       "    </tr>\n",
       "  </tbody>\n",
       "</table>\n",
       "</div>"
      ],
      "text/plain": [
       "                               main_sector  Total_Investments  \\\n",
       "0                                   Others     26321007002.00   \n",
       "1  Social, Finance, Analytics, Advertising     23807376964.00   \n",
       "2               Cleantech / Semiconductors     21633430822.00   \n",
       "3               News, Search and Messaging     13971567428.00   \n",
       "4                                   Health      8211859357.00   \n",
       "5                            Manufacturing      7258553378.00   \n",
       "6                            Entertainment      5099197982.00   \n",
       "7                      Automotive & Sports      1454104361.00   \n",
       "\n",
       "   No_of_Investments  \n",
       "0               2950  \n",
       "1               2714  \n",
       "2               2350  \n",
       "3               1583  \n",
       "4                909  \n",
       "5                799  \n",
       "6                591  \n",
       "7                167  "
      ]
     },
     "execution_count": 40,
     "metadata": {},
     "output_type": "execute_result"
    }
   ],
   "source": [
    "#D1.groupby('main_sector')['raised_amount_usd'].agg(['sum','count'])\n",
    "print(\"Sectors in USA as per Total Amount of Investment\")\n",
    "temp_D1 = D1.groupby('main_sector').agg(Total_Investments=('raised_amount_usd', 'sum'), No_of_Investments=('raised_amount_usd', 'count')).reset_index().sort_values(by=[\"Total_Investments\"],ascending=False).reset_index()\n",
    "temp_D1.drop(columns=[\"index\"],inplace=True)\n",
    "temp_D1"
   ]
  },
  {
   "cell_type": "code",
   "execution_count": 41,
   "metadata": {},
   "outputs": [
    {
     "name": "stdout",
     "output_type": "stream",
     "text": [
      "Sectors in Breat Britain as per Total Amount of Investment\n"
     ]
    },
    {
     "data": {
      "text/html": [
       "<div>\n",
       "<style scoped>\n",
       "    .dataframe tbody tr th:only-of-type {\n",
       "        vertical-align: middle;\n",
       "    }\n",
       "\n",
       "    .dataframe tbody tr th {\n",
       "        vertical-align: top;\n",
       "    }\n",
       "\n",
       "    .dataframe thead th {\n",
       "        text-align: right;\n",
       "    }\n",
       "</style>\n",
       "<table border=\"1\" class=\"dataframe\">\n",
       "  <thead>\n",
       "    <tr style=\"text-align: right;\">\n",
       "      <th></th>\n",
       "      <th>main_sector</th>\n",
       "      <th>Total_Investments</th>\n",
       "      <th>No_of_Investments</th>\n",
       "    </tr>\n",
       "  </thead>\n",
       "  <tbody>\n",
       "    <tr>\n",
       "      <th>0</th>\n",
       "      <td>Others</td>\n",
       "      <td>1283624289.00</td>\n",
       "      <td>147</td>\n",
       "    </tr>\n",
       "    <tr>\n",
       "      <th>1</th>\n",
       "      <td>Cleantech / Semiconductors</td>\n",
       "      <td>1163990056.00</td>\n",
       "      <td>130</td>\n",
       "    </tr>\n",
       "    <tr>\n",
       "      <th>2</th>\n",
       "      <td>Social, Finance, Analytics, Advertising</td>\n",
       "      <td>1089404014.00</td>\n",
       "      <td>133</td>\n",
       "    </tr>\n",
       "    <tr>\n",
       "      <th>3</th>\n",
       "      <td>News, Search and Messaging</td>\n",
       "      <td>615746235.00</td>\n",
       "      <td>73</td>\n",
       "    </tr>\n",
       "    <tr>\n",
       "      <th>4</th>\n",
       "      <td>Entertainment</td>\n",
       "      <td>482784687.00</td>\n",
       "      <td>56</td>\n",
       "    </tr>\n",
       "    <tr>\n",
       "      <th>5</th>\n",
       "      <td>Manufacturing</td>\n",
       "      <td>361940335.00</td>\n",
       "      <td>42</td>\n",
       "    </tr>\n",
       "    <tr>\n",
       "      <th>6</th>\n",
       "      <td>Health</td>\n",
       "      <td>214537510.00</td>\n",
       "      <td>24</td>\n",
       "    </tr>\n",
       "    <tr>\n",
       "      <th>7</th>\n",
       "      <td>Automotive &amp; Sports</td>\n",
       "      <td>167051565.00</td>\n",
       "      <td>16</td>\n",
       "    </tr>\n",
       "  </tbody>\n",
       "</table>\n",
       "</div>"
      ],
      "text/plain": [
       "                               main_sector  Total_Investments  \\\n",
       "0                                   Others      1283624289.00   \n",
       "1               Cleantech / Semiconductors      1163990056.00   \n",
       "2  Social, Finance, Analytics, Advertising      1089404014.00   \n",
       "3               News, Search and Messaging       615746235.00   \n",
       "4                            Entertainment       482784687.00   \n",
       "5                            Manufacturing       361940335.00   \n",
       "6                                   Health       214537510.00   \n",
       "7                      Automotive & Sports       167051565.00   \n",
       "\n",
       "   No_of_Investments  \n",
       "0                147  \n",
       "1                130  \n",
       "2                133  \n",
       "3                 73  \n",
       "4                 56  \n",
       "5                 42  \n",
       "6                 24  \n",
       "7                 16  "
      ]
     },
     "execution_count": 41,
     "metadata": {},
     "output_type": "execute_result"
    }
   ],
   "source": [
    "#D3.groupby('main_sector')['raised_amount_usd'].agg(['sum','count'])\n",
    "print(\"Sectors in Breat Britain as per Total Amount of Investment\")\n",
    "temp_D2 = D2.groupby('main_sector').agg(Total_Investments=('raised_amount_usd', 'sum'), No_of_Investments=('raised_amount_usd', 'count')).reset_index().sort_values(by=[\"Total_Investments\"],ascending=False).reset_index()\n",
    "temp_D2.drop(columns=[\"index\"],inplace=True)\n",
    "temp_D2"
   ]
  },
  {
   "cell_type": "code",
   "execution_count": 42,
   "metadata": {},
   "outputs": [
    {
     "name": "stdout",
     "output_type": "stream",
     "text": [
      "Sectors in India as per Total Amount of Investment\n"
     ]
    },
    {
     "data": {
      "text/html": [
       "<div>\n",
       "<style scoped>\n",
       "    .dataframe tbody tr th:only-of-type {\n",
       "        vertical-align: middle;\n",
       "    }\n",
       "\n",
       "    .dataframe tbody tr th {\n",
       "        vertical-align: top;\n",
       "    }\n",
       "\n",
       "    .dataframe thead th {\n",
       "        text-align: right;\n",
       "    }\n",
       "</style>\n",
       "<table border=\"1\" class=\"dataframe\">\n",
       "  <thead>\n",
       "    <tr style=\"text-align: right;\">\n",
       "      <th></th>\n",
       "      <th>main_sector</th>\n",
       "      <th>Total_Investments</th>\n",
       "      <th>No_of_Investments</th>\n",
       "    </tr>\n",
       "  </thead>\n",
       "  <tbody>\n",
       "    <tr>\n",
       "      <th>0</th>\n",
       "      <td>Others</td>\n",
       "      <td>1013409507.00</td>\n",
       "      <td>110</td>\n",
       "    </tr>\n",
       "    <tr>\n",
       "      <th>1</th>\n",
       "      <td>Social, Finance, Analytics, Advertising</td>\n",
       "      <td>550549550.00</td>\n",
       "      <td>60</td>\n",
       "    </tr>\n",
       "    <tr>\n",
       "      <th>2</th>\n",
       "      <td>News, Search and Messaging</td>\n",
       "      <td>433834545.00</td>\n",
       "      <td>52</td>\n",
       "    </tr>\n",
       "    <tr>\n",
       "      <th>3</th>\n",
       "      <td>Entertainment</td>\n",
       "      <td>280830000.00</td>\n",
       "      <td>33</td>\n",
       "    </tr>\n",
       "    <tr>\n",
       "      <th>4</th>\n",
       "      <td>Manufacturing</td>\n",
       "      <td>200900000.00</td>\n",
       "      <td>21</td>\n",
       "    </tr>\n",
       "    <tr>\n",
       "      <th>5</th>\n",
       "      <td>Health</td>\n",
       "      <td>167740000.00</td>\n",
       "      <td>19</td>\n",
       "    </tr>\n",
       "    <tr>\n",
       "      <th>6</th>\n",
       "      <td>Cleantech / Semiconductors</td>\n",
       "      <td>165380000.00</td>\n",
       "      <td>20</td>\n",
       "    </tr>\n",
       "    <tr>\n",
       "      <th>7</th>\n",
       "      <td>Automotive &amp; Sports</td>\n",
       "      <td>136900000.00</td>\n",
       "      <td>13</td>\n",
       "    </tr>\n",
       "  </tbody>\n",
       "</table>\n",
       "</div>"
      ],
      "text/plain": [
       "                               main_sector  Total_Investments  \\\n",
       "0                                   Others      1013409507.00   \n",
       "1  Social, Finance, Analytics, Advertising       550549550.00   \n",
       "2               News, Search and Messaging       433834545.00   \n",
       "3                            Entertainment       280830000.00   \n",
       "4                            Manufacturing       200900000.00   \n",
       "5                                   Health       167740000.00   \n",
       "6               Cleantech / Semiconductors       165380000.00   \n",
       "7                      Automotive & Sports       136900000.00   \n",
       "\n",
       "   No_of_Investments  \n",
       "0                110  \n",
       "1                 60  \n",
       "2                 52  \n",
       "3                 33  \n",
       "4                 21  \n",
       "5                 19  \n",
       "6                 20  \n",
       "7                 13  "
      ]
     },
     "execution_count": 42,
     "metadata": {},
     "output_type": "execute_result"
    }
   ],
   "source": [
    "#D3.groupby('main_sector')['raised_amount_usd'].agg(['sum','count'])\n",
    "print(\"Sectors in India as per Total Amount of Investment\")\n",
    "temp_D3 = D3.groupby('main_sector').agg(Total_Investments=('raised_amount_usd', 'sum'), No_of_Investments=('raised_amount_usd', 'count')).reset_index().sort_values(by=[\"Total_Investments\"],ascending=False).reset_index()\n",
    "temp_D3.drop(columns=[\"index\"],inplace=True)\n",
    "temp_D3"
   ]
  },
  {
   "cell_type": "markdown",
   "metadata": {},
   "source": [
    "### Table 5.1 : Sector-wise Investment Analysis\n",
    "\n",
    "1. Total number of investments (count)"
   ]
  },
  {
   "cell_type": "code",
   "execution_count": 43,
   "metadata": {},
   "outputs": [
    {
     "name": "stdout",
     "output_type": "stream",
     "text": [
      "No. of Investments in USA :  12150\n",
      "No. of Investments in GBR :  628\n",
      "No. of Investments in IND :  330\n"
     ]
    }
   ],
   "source": [
    "print(\"No. of Investments in USA : \",len(D1))\n",
    "print(\"No. of Investments in GBR : \",len(D2))\n",
    "print(\"No. of Investments in IND : \",len(D3))"
   ]
  },
  {
   "cell_type": "markdown",
   "metadata": {},
   "source": [
    "2. Total amount of investment (USD)"
   ]
  },
  {
   "cell_type": "code",
   "execution_count": 44,
   "metadata": {},
   "outputs": [
    {
     "name": "stdout",
     "output_type": "stream",
     "text": [
      "Total Amount of Investment in USA :  108531347515.0\n",
      "Total Amount of Investment in GBR :  5436843539.0\n",
      "Total Amount of Investment in IND :  2976543602.0\n"
     ]
    }
   ],
   "source": [
    "print(\"Total Amount of Investment in USA : \",D1.raised_amount_usd.sum())\n",
    "print(\"Total Amount of Investment in GBR : \",D2.raised_amount_usd.sum())\n",
    "print(\"Total Amount of Investment in IND : \",D3.raised_amount_usd.sum())"
   ]
  },
  {
   "cell_type": "markdown",
   "metadata": {},
   "source": [
    "3-8. Top 3 Sectors Names and Number of investments (based on count of investments)"
   ]
  },
  {
   "cell_type": "code",
   "execution_count": 45,
   "metadata": {},
   "outputs": [
    {
     "name": "stdout",
     "output_type": "stream",
     "text": [
      "In USA : \n",
      "\n",
      "Others                                     2950\n",
      "Social, Finance, Analytics, Advertising    2714\n",
      "Cleantech / Semiconductors                 2350\n",
      "Name: main_sector, dtype: int64\n",
      "\n",
      "\n",
      "In GBR : \n",
      "\n",
      "Others                                     147\n",
      "Social, Finance, Analytics, Advertising    133\n",
      "Cleantech / Semiconductors                 130\n",
      "Name: main_sector, dtype: int64\n",
      "\n",
      "\n",
      "In IND : \n",
      "\n",
      "Others                                     110\n",
      "Social, Finance, Analytics, Advertising     60\n",
      "News, Search and Messaging                  52\n",
      "Name: main_sector, dtype: int64\n"
     ]
    }
   ],
   "source": [
    "print(\"In USA : \\n\")\n",
    "print(D1.main_sector.value_counts()[:3])\n",
    "print(\"\\n\\nIn GBR : \\n\")\n",
    "print(D2.main_sector.value_counts()[:3])\n",
    "print(\"\\n\\nIn IND : \\n\")\n",
    "print(D3.main_sector.value_counts()[:3])"
   ]
  },
  {
   "cell_type": "markdown",
   "metadata": {},
   "source": [
    "9. For the top sector count-wise (point 3), which company received the highest investment?"
   ]
  },
  {
   "cell_type": "code",
   "execution_count": 46,
   "metadata": {},
   "outputs": [
    {
     "name": "stdout",
     "output_type": "stream",
     "text": [
      "For USA\n"
     ]
    },
    {
     "data": {
      "text/html": [
       "<div>\n",
       "<style scoped>\n",
       "    .dataframe tbody tr th:only-of-type {\n",
       "        vertical-align: middle;\n",
       "    }\n",
       "\n",
       "    .dataframe tbody tr th {\n",
       "        vertical-align: top;\n",
       "    }\n",
       "\n",
       "    .dataframe thead th {\n",
       "        text-align: right;\n",
       "    }\n",
       "</style>\n",
       "<table border=\"1\" class=\"dataframe\">\n",
       "  <thead>\n",
       "    <tr style=\"text-align: right;\">\n",
       "      <th></th>\n",
       "      <th>raised_amount_usd</th>\n",
       "    </tr>\n",
       "    <tr>\n",
       "      <th>name</th>\n",
       "      <th></th>\n",
       "    </tr>\n",
       "  </thead>\n",
       "  <tbody>\n",
       "    <tr>\n",
       "      <th>Virtustream</th>\n",
       "      <td>64300000.00</td>\n",
       "    </tr>\n",
       "  </tbody>\n",
       "</table>\n",
       "</div>"
      ],
      "text/plain": [
       "             raised_amount_usd\n",
       "name                          \n",
       "Virtustream        64300000.00"
      ]
     },
     "execution_count": 46,
     "metadata": {},
     "output_type": "execute_result"
    }
   ],
   "source": [
    "#pd.pivot_table(data=D1[D1.main_sector=='Others'],index=\"name\",values=\"raised_amount_usd\",aggfunc=np.sum).sort_values(by=\"raised_amount_usd\",ascending=False)\n",
    "\n",
    "print(\"For USA\")\n",
    "D1[D1.main_sector=='Others'].groupby([\"name\"]).sum().sort_values(by=[\"raised_amount_usd\"],ascending=False).head(1)\n"
   ]
  },
  {
   "cell_type": "code",
   "execution_count": 47,
   "metadata": {},
   "outputs": [
    {
     "name": "stdout",
     "output_type": "stream",
     "text": [
      "For GBR\n"
     ]
    },
    {
     "data": {
      "text/html": [
       "<div>\n",
       "<style scoped>\n",
       "    .dataframe tbody tr th:only-of-type {\n",
       "        vertical-align: middle;\n",
       "    }\n",
       "\n",
       "    .dataframe tbody tr th {\n",
       "        vertical-align: top;\n",
       "    }\n",
       "\n",
       "    .dataframe thead th {\n",
       "        text-align: right;\n",
       "    }\n",
       "</style>\n",
       "<table border=\"1\" class=\"dataframe\">\n",
       "  <thead>\n",
       "    <tr style=\"text-align: right;\">\n",
       "      <th></th>\n",
       "      <th>raised_amount_usd</th>\n",
       "    </tr>\n",
       "    <tr>\n",
       "      <th>name</th>\n",
       "      <th></th>\n",
       "    </tr>\n",
       "  </thead>\n",
       "  <tbody>\n",
       "    <tr>\n",
       "      <th>Electric Cloud</th>\n",
       "      <td>37000000.00</td>\n",
       "    </tr>\n",
       "  </tbody>\n",
       "</table>\n",
       "</div>"
      ],
      "text/plain": [
       "                raised_amount_usd\n",
       "name                             \n",
       "Electric Cloud        37000000.00"
      ]
     },
     "execution_count": 47,
     "metadata": {},
     "output_type": "execute_result"
    }
   ],
   "source": [
    "print(\"For GBR\")\n",
    "D2[D2.main_sector=='Others'].groupby([\"name\"]).sum().sort_values(by=[\"raised_amount_usd\"],ascending=False).head(1)\n"
   ]
  },
  {
   "cell_type": "code",
   "execution_count": 48,
   "metadata": {},
   "outputs": [
    {
     "name": "stdout",
     "output_type": "stream",
     "text": [
      "For IND\n"
     ]
    },
    {
     "data": {
      "text/html": [
       "<div>\n",
       "<style scoped>\n",
       "    .dataframe tbody tr th:only-of-type {\n",
       "        vertical-align: middle;\n",
       "    }\n",
       "\n",
       "    .dataframe tbody tr th {\n",
       "        vertical-align: top;\n",
       "    }\n",
       "\n",
       "    .dataframe thead th {\n",
       "        text-align: right;\n",
       "    }\n",
       "</style>\n",
       "<table border=\"1\" class=\"dataframe\">\n",
       "  <thead>\n",
       "    <tr style=\"text-align: right;\">\n",
       "      <th></th>\n",
       "      <th>raised_amount_usd</th>\n",
       "    </tr>\n",
       "    <tr>\n",
       "      <th>name</th>\n",
       "      <th></th>\n",
       "    </tr>\n",
       "  </thead>\n",
       "  <tbody>\n",
       "    <tr>\n",
       "      <th>FirstCry.com</th>\n",
       "      <td>39000000.00</td>\n",
       "    </tr>\n",
       "  </tbody>\n",
       "</table>\n",
       "</div>"
      ],
      "text/plain": [
       "              raised_amount_usd\n",
       "name                           \n",
       "FirstCry.com        39000000.00"
      ]
     },
     "execution_count": 48,
     "metadata": {},
     "output_type": "execute_result"
    }
   ],
   "source": [
    "print(\"For IND\")\n",
    "D3[D3.main_sector=='Others'].groupby([\"name\"]).sum().sort_values(by=[\"raised_amount_usd\"],ascending=False).head(1)\n"
   ]
  },
  {
   "cell_type": "markdown",
   "metadata": {},
   "source": [
    "10. For the second-best sector count-wise (point 4), which company received the highest investment"
   ]
  },
  {
   "cell_type": "code",
   "execution_count": 49,
   "metadata": {},
   "outputs": [
    {
     "name": "stdout",
     "output_type": "stream",
     "text": [
      "For USA\n"
     ]
    },
    {
     "data": {
      "text/html": [
       "<div>\n",
       "<style scoped>\n",
       "    .dataframe tbody tr th:only-of-type {\n",
       "        vertical-align: middle;\n",
       "    }\n",
       "\n",
       "    .dataframe tbody tr th {\n",
       "        vertical-align: top;\n",
       "    }\n",
       "\n",
       "    .dataframe thead th {\n",
       "        text-align: right;\n",
       "    }\n",
       "</style>\n",
       "<table border=\"1\" class=\"dataframe\">\n",
       "  <thead>\n",
       "    <tr style=\"text-align: right;\">\n",
       "      <th></th>\n",
       "      <th>raised_amount_usd</th>\n",
       "    </tr>\n",
       "    <tr>\n",
       "      <th>name</th>\n",
       "      <th></th>\n",
       "    </tr>\n",
       "  </thead>\n",
       "  <tbody>\n",
       "    <tr>\n",
       "      <th>SST Inc. (Formerly ShotSpotter)</th>\n",
       "      <td>67933006.00</td>\n",
       "    </tr>\n",
       "  </tbody>\n",
       "</table>\n",
       "</div>"
      ],
      "text/plain": [
       "                                 raised_amount_usd\n",
       "name                                              \n",
       "SST Inc. (Formerly ShotSpotter)        67933006.00"
      ]
     },
     "execution_count": 49,
     "metadata": {},
     "output_type": "execute_result"
    }
   ],
   "source": [
    "print(\"For USA\")\n",
    "D1[D1.main_sector=='Social, Finance, Analytics, Advertising'].groupby([\"name\"]).sum().sort_values(by=[\"raised_amount_usd\"],ascending=False).head(1)"
   ]
  },
  {
   "cell_type": "code",
   "execution_count": 50,
   "metadata": {},
   "outputs": [
    {
     "name": "stdout",
     "output_type": "stream",
     "text": [
      "For GBR\n"
     ]
    },
    {
     "data": {
      "text/html": [
       "<div>\n",
       "<style scoped>\n",
       "    .dataframe tbody tr th:only-of-type {\n",
       "        vertical-align: middle;\n",
       "    }\n",
       "\n",
       "    .dataframe tbody tr th {\n",
       "        vertical-align: top;\n",
       "    }\n",
       "\n",
       "    .dataframe thead th {\n",
       "        text-align: right;\n",
       "    }\n",
       "</style>\n",
       "<table border=\"1\" class=\"dataframe\">\n",
       "  <thead>\n",
       "    <tr style=\"text-align: right;\">\n",
       "      <th></th>\n",
       "      <th>raised_amount_usd</th>\n",
       "    </tr>\n",
       "    <tr>\n",
       "      <th>name</th>\n",
       "      <th></th>\n",
       "    </tr>\n",
       "  </thead>\n",
       "  <tbody>\n",
       "    <tr>\n",
       "      <th>Celltick Technologies</th>\n",
       "      <td>37500000.00</td>\n",
       "    </tr>\n",
       "  </tbody>\n",
       "</table>\n",
       "</div>"
      ],
      "text/plain": [
       "                       raised_amount_usd\n",
       "name                                    \n",
       "Celltick Technologies        37500000.00"
      ]
     },
     "execution_count": 50,
     "metadata": {},
     "output_type": "execute_result"
    }
   ],
   "source": [
    "print(\"For GBR\")\n",
    "D2[D2.main_sector=='Social, Finance, Analytics, Advertising'].groupby([\"name\"]).sum().sort_values(by=[\"raised_amount_usd\"],ascending=False).head(1)"
   ]
  },
  {
   "cell_type": "code",
   "execution_count": 51,
   "metadata": {},
   "outputs": [
    {
     "name": "stdout",
     "output_type": "stream",
     "text": [
      "For IND\n"
     ]
    },
    {
     "data": {
      "text/html": [
       "<div>\n",
       "<style scoped>\n",
       "    .dataframe tbody tr th:only-of-type {\n",
       "        vertical-align: middle;\n",
       "    }\n",
       "\n",
       "    .dataframe tbody tr th {\n",
       "        vertical-align: top;\n",
       "    }\n",
       "\n",
       "    .dataframe thead th {\n",
       "        text-align: right;\n",
       "    }\n",
       "</style>\n",
       "<table border=\"1\" class=\"dataframe\">\n",
       "  <thead>\n",
       "    <tr style=\"text-align: right;\">\n",
       "      <th></th>\n",
       "      <th>raised_amount_usd</th>\n",
       "    </tr>\n",
       "    <tr>\n",
       "      <th>name</th>\n",
       "      <th></th>\n",
       "    </tr>\n",
       "  </thead>\n",
       "  <tbody>\n",
       "    <tr>\n",
       "      <th>Manthan Systems</th>\n",
       "      <td>50700000.00</td>\n",
       "    </tr>\n",
       "  </tbody>\n",
       "</table>\n",
       "</div>"
      ],
      "text/plain": [
       "                 raised_amount_usd\n",
       "name                              \n",
       "Manthan Systems        50700000.00"
      ]
     },
     "execution_count": 51,
     "metadata": {},
     "output_type": "execute_result"
    }
   ],
   "source": [
    "print(\"For IND\")\n",
    "D3[D3.main_sector=='Social, Finance, Analytics, Advertising'].groupby([\"name\"]).sum().sort_values(by=[\"raised_amount_usd\"],ascending=False).head(1)"
   ]
  },
  {
   "cell_type": "markdown",
   "metadata": {},
   "source": [
    "\n",
    "# Checkpoint 6: Plots\n",
    "\n",
    "### <font color=green>A plot showing the representative amount of investment in each funding type. This chart should make it clear that a certain funding type (FT) is best suited for Spark Funds.   </font>\n",
    "\n",
    "\n",
    "1. Created two subplots as below:\n",
    "* 1st is `pie` chart that shows `Distribution of Total Amount raised` <br>\n",
    "* 2nd is `bar` chart that shows `Average Investment in each funding type`\n",
    "        \n",
    "#### Charts makes it very clear that `'Venture'` funding type is best suited for Spark Funds as it has average investment amount  between 5 to 15 Millions USD    "
   ]
  },
  {
   "cell_type": "code",
   "execution_count": 52,
   "metadata": {},
   "outputs": [
    {
     "data": {
      "image/png": "[encoded data removed]",
      "text/plain": [
       "<Figure size 1200x1200 with 2 Axes>"
      ]
     },
     "metadata": {},
     "output_type": "display_data"
    }
   ],
   "source": [
    "plt.figure(figsize=(10,10),dpi=120)\n",
    "plt.style.use(\"ggplot\")\n",
    "\n",
    "\n",
    "plt.subplot(221)\n",
    "\n",
    "# Preparing Data\n",
    "pie_data = original_master_frame.groupby([\"funding_round_type\"])[\"raised_amount_usd\"].sum()\n",
    "labels = pie_data.keys()\n",
    "## For Pie Chart\n",
    "plt.pie(x=pie_data, autopct=\"%.1f%%\", explode=[0.009]*4, labels=labels, pctdistance=0.5,startangle=90)\n",
    "plt.title(\"Distribution of Total Amount raised\", fontsize=14);\n",
    "\n",
    "\n",
    "plt.subplot(222)\n",
    "\n",
    "#Preparing Data\n",
    "bar_data = original_master_frame.groupby([\"funding_round_type\"]).mean().sort_values(by=[\"raised_amount_usd\"]).reset_index()\n",
    "bar_data[\"raised_amount_usd\"] = round(bar_data[\"raised_amount_usd\"]/1000000,2)\n",
    "# For Bar Chart\n",
    "g = sns.barplot(data=bar_data, x=\"funding_round_type\", y=\"raised_amount_usd\",palette=\"Blues_d\")\n",
    "g.set(xlabel='Round Funding Type', ylabel='Raised Amount in Millions USD')\n",
    "g.set_title('Average Investment in each funding type')\n",
    "## For annotation\n",
    "for index, row in bar_data.iterrows():\n",
    "    g.text(row.name,row.raised_amount_usd+0.5, str(row.raised_amount_usd) + ' M', color='black', ha=\"center\")\n",
    "\n",
    "plt.show()"
   ]
  },
  {
   "cell_type": "markdown",
   "metadata": {},
   "source": [
    "### <font color='green'>A plot showing the top 9 countries against the total amount of investments of funding type FT. This should make the top 3 countries (Country 1, Country 2, and Country 3) very clear.</font>\n",
    "\n",
    "* Plotted a `'Bar Chart'`"
   ]
  },
  {
   "cell_type": "code",
   "execution_count": 53,
   "metadata": {},
   "outputs": [
    {
     "data": {
      "image/png": "[encoded data removed]",
      "text/plain": [
       "<Figure size 1200x720 with 1 Axes>"
      ]
     },
     "metadata": {},
     "output_type": "display_data"
    }
   ],
   "source": [
    "plt.figure(figsize=(10,6),dpi=120)\n",
    "plt.style.use(\"ggplot\")\n",
    "\n",
    "\n",
    "\n",
    "bar_data = top9.reset_index()\n",
    "bar_data[\"raised_amount_usd\"] = round(bar_data[\"raised_amount_usd\"]/1000000000,2)\n",
    "\n",
    "clrs = ['indianred' if (x in [\"CHN\",\"FRA\",\"DEU\",\"JPN\"]) else 'mediumslateblue' for x in bar_data[\"country_code\"] ]\n",
    "g = sns.barplot(data=bar_data, x=\"country_code\", y=\"raised_amount_usd\",palette=clrs)\n",
    "g.set(xlabel='Country', ylabel='Total amount of Investments in Billions (USD)')\n",
    "g.set_title('Top 9 Countries against the Total amount of Investments in Venture FT',pad=20)\n",
    "\n",
    "## Annotating each bar with the corresponding value/number\n",
    "\n",
    "for index, row in bar_data.iterrows():\n",
    "    g.text(row.name,row.raised_amount_usd+(1), str(row.raised_amount_usd) + ' B', color='black', ha=\"center\")\n",
    "\n",
    "\n",
    "plt.show()"
   ]
  },
  {
   "cell_type": "markdown",
   "metadata": {},
   "source": [
    "#### <font color='red'>NOTE : RED </font> color bar in above bar chart represents Non-English Speaking Countries"
   ]
  },
  {
   "cell_type": "code",
   "execution_count": 54,
   "metadata": {},
   "outputs": [
    {
     "data": {
      "image/png": "[encoded data removed]",
      "text/plain": [
       "<Figure size 600x600 with 1 Axes>"
      ]
     },
     "metadata": {},
     "output_type": "display_data"
    }
   ],
   "source": [
    "plt.figure(figsize=(10,10),dpi=60)\n",
    "\n",
    "pie_data = list(round(top9.reset_index()[\"raised_amount_usd\"][:4]/1000000000,2))\n",
    "\n",
    "# Plotting Pie Chart, changing orientation of pie chart and annotating it \n",
    "labels = top9.reset_index()[\"country_code\"][:4]\n",
    "w,l,p = plt.pie(x=pie_data, autopct=\"%.1f%%\", explode=[0.009]*4, labels=labels, pctdistance=0.9,startangle=90,textprops={'fontsize': 17})\n",
    "plt.title(\"Distribution of Total Amount raised in top 4 countries\", fontsize=20,pad=25);\n",
    "\n",
    "pctdists = [.2, .4, .6, .8]\n",
    "\n",
    "for t,d in zip(p, pctdists):\n",
    "    xi,yi = t.get_position()\n",
    "    ri = np.sqrt(xi**2+yi**2)\n",
    "    phi = np.arctan2(yi,xi)\n",
    "    x = d*ri*np.cos(phi)\n",
    "    y = d*ri*np.sin(phi)\n",
    "    t.set_position((x,y))\n",
    "\n",
    "plt.axis('equal')\n",
    "plt.show()"
   ]
  },
  {
   "cell_type": "markdown",
   "metadata": {},
   "source": [
    "### <font color='green'>A plot showing the number of investments in the top 3 sectors of the top 3 countries on one chart (for the chosen Venture FT). This plot clearly display the top 3 sectors each in USA, GBR and IND.</font>"
   ]
  },
  {
   "cell_type": "code",
   "execution_count": 55,
   "metadata": {},
   "outputs": [],
   "source": [
    "#concating D1, D2 and D3 into D and only considering top 3 sectors in each dataframes\n",
    "D = pd.concat([D1[D1.main_sector.isin(list(D1[\"main_sector\"].value_counts()[:3].index))],D2[D2.main_sector.isin(list(D2[\"main_sector\"].value_counts()[:3].index))],D3[D3.main_sector.isin(list(D3[\"main_sector\"].value_counts()[:3].index))]],axis=0)"
   ]
  },
  {
   "cell_type": "code",
   "execution_count": 56,
   "metadata": {
    "scrolled": true
   },
   "outputs": [
    {
     "data": {
      "text/html": [
       "<div>\n",
       "<style scoped>\n",
       "    .dataframe tbody tr th:only-of-type {\n",
       "        vertical-align: middle;\n",
       "    }\n",
       "\n",
       "    .dataframe tbody tr th {\n",
       "        vertical-align: top;\n",
       "    }\n",
       "\n",
       "    .dataframe thead th {\n",
       "        text-align: right;\n",
       "    }\n",
       "</style>\n",
       "<table border=\"1\" class=\"dataframe\">\n",
       "  <thead>\n",
       "    <tr style=\"text-align: right;\">\n",
       "      <th></th>\n",
       "      <th>Country</th>\n",
       "      <th>Top Sectors</th>\n",
       "      <th>Number of Investments</th>\n",
       "    </tr>\n",
       "    <tr>\n",
       "      <th>Rank</th>\n",
       "      <th></th>\n",
       "      <th></th>\n",
       "      <th></th>\n",
       "    </tr>\n",
       "  </thead>\n",
       "  <tbody>\n",
       "    <tr>\n",
       "      <th>1</th>\n",
       "      <td>USA</td>\n",
       "      <td>Others</td>\n",
       "      <td>2950</td>\n",
       "    </tr>\n",
       "    <tr>\n",
       "      <th>2</th>\n",
       "      <td>USA</td>\n",
       "      <td>Social, Finance, Analytics, Advertising</td>\n",
       "      <td>2714</td>\n",
       "    </tr>\n",
       "    <tr>\n",
       "      <th>3</th>\n",
       "      <td>USA</td>\n",
       "      <td>Cleantech / Semiconductors</td>\n",
       "      <td>2350</td>\n",
       "    </tr>\n",
       "    <tr>\n",
       "      <th>1</th>\n",
       "      <td>GBR</td>\n",
       "      <td>Others</td>\n",
       "      <td>147</td>\n",
       "    </tr>\n",
       "    <tr>\n",
       "      <th>2</th>\n",
       "      <td>GBR</td>\n",
       "      <td>Social, Finance, Analytics, Advertising</td>\n",
       "      <td>133</td>\n",
       "    </tr>\n",
       "    <tr>\n",
       "      <th>3</th>\n",
       "      <td>GBR</td>\n",
       "      <td>Cleantech / Semiconductors</td>\n",
       "      <td>130</td>\n",
       "    </tr>\n",
       "    <tr>\n",
       "      <th>1</th>\n",
       "      <td>IND</td>\n",
       "      <td>Others</td>\n",
       "      <td>110</td>\n",
       "    </tr>\n",
       "    <tr>\n",
       "      <th>2</th>\n",
       "      <td>IND</td>\n",
       "      <td>Social, Finance, Analytics, Advertising</td>\n",
       "      <td>60</td>\n",
       "    </tr>\n",
       "    <tr>\n",
       "      <th>3</th>\n",
       "      <td>IND</td>\n",
       "      <td>News, Search and Messaging</td>\n",
       "      <td>52</td>\n",
       "    </tr>\n",
       "  </tbody>\n",
       "</table>\n",
       "</div>"
      ],
      "text/plain": [
       "     Country                              Top Sectors  Number of Investments\n",
       "Rank                                                                        \n",
       "1        USA                                   Others                   2950\n",
       "2        USA  Social, Finance, Analytics, Advertising                   2714\n",
       "3        USA               Cleantech / Semiconductors                   2350\n",
       "1        GBR                                   Others                    147\n",
       "2        GBR  Social, Finance, Analytics, Advertising                    133\n",
       "3        GBR               Cleantech / Semiconductors                    130\n",
       "1        IND                                   Others                    110\n",
       "2        IND  Social, Finance, Analytics, Advertising                     60\n",
       "3        IND               News, Search and Messaging                     52"
      ]
     },
     "execution_count": 56,
     "metadata": {},
     "output_type": "execute_result"
    }
   ],
   "source": [
    "D_table = pd.DataFrame(D.groupby([\"country_code\",\"main_sector\"])[\"raised_amount_usd\"].count().sort_values(ascending=False).reset_index())\n",
    "D_table.rename(columns={\"raised_amount_usd\":\"Number of Investments\",\"main_sector\":\"Top Sectors\",\"country_code\":\"Country\"},inplace=True)\n",
    "D_table[\"Rank\"] = np.array([1,2,3]*(len(D_table)//3))\n",
    "D_table.set_index(\"Rank\")"
   ]
  },
  {
   "cell_type": "code",
   "execution_count": 57,
   "metadata": {},
   "outputs": [
    {
     "data": {
      "image/png": "[encoded data removed]",
      "text/plain": [
       "<Figure size 1080x540 with 1 Axes>"
      ]
     },
     "metadata": {},
     "output_type": "display_data"
    }
   ],
   "source": [
    "plt.figure(figsize=(12,6),dpi=90)\n",
    "\n",
    "g = sns.barplot(data=D_table,x=\"Country\",y=\"Number of Investments\",hue=\"Top Sectors\",palette = \"Paired\")\n",
    "\n",
    "## Annotating Bar chart\n",
    "for p in g.patches:\n",
    "    g.annotate(format(p.get_height(), '.0f'), \n",
    "                   (p.get_x() + p.get_width() / 2., p.get_height()), \n",
    "                   ha = 'center', va = 'center', \n",
    "                   size=10,\n",
    "                   xytext = (0, 5), \n",
    "                   textcoords = 'offset points')\n",
    "\n",
    "plt.title(\"Number of Investments in the Top 3 Sectors of the Top 3 Countries\", fontsize=20,pad=25);\n",
    "plt.setp(g.get_legend().get_texts(), fontsize='12') # for legend text\n",
    "plt.setp(g.get_legend().get_title(), fontsize='15') # for legend title\n",
    "plt.show()"
   ]
  },
  {
   "cell_type": "code",
   "execution_count": null,
   "metadata": {},
   "outputs": [],
   "source": []
  },
  {
   "cell_type": "code",
   "execution_count": null,
   "metadata": {},
   "outputs": [],
   "source": []
  }
 ],
 "metadata": {
  "kernelspec": {
   "display_name": "Python 3",
   "language": "python",
   "name": "python3"
  },
  "language_info": {
   "codemirror_mode": {
    "name": "ipython",
    "version": 3
   },
   "file_extension": ".py",
   "mimetype": "text/x-python",
   "name": "python",
   "nbconvert_exporter": "python",
   "pygments_lexer": "ipython3",
   "version": "3.8.5"
  }
 },
 "nbformat": 4,
 "nbformat_minor": 4
}
